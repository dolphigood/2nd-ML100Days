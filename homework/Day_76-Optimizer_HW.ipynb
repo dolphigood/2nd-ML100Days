{
 "cells": [
  {
   "cell_type": "markdown",
   "metadata": {},
   "source": [
    "\n",
    "# 作業: \n",
    "    \n",
    "    (1)以, Adam, 為例, 調整 batch_size, epoch , 觀察accurancy, loss 的變化\n",
    "    \n",
    "    (2)以同一模型, 分別驗證 SGD, Adam, Rmsprop 的 accurancy"
   ]
  },
  {
   "cell_type": "code",
   "execution_count": 1,
   "metadata": {},
   "outputs": [
    {
     "name": "stderr",
     "output_type": "stream",
     "text": [
      "Using TensorFlow backend.\n"
     ]
    }
   ],
   "source": [
    "import keras\n",
    "#from keras.datasets import cifar10\n",
    "from keras.datasets import mnist \n",
    "from keras.preprocessing.image import ImageDataGenerator\n",
    "from keras.models import Sequential, load_model\n",
    "from keras.layers import Dense, Dropout, Activation, Flatten\n",
    "from keras.layers import Conv2D, MaxPooling2D\n",
    "from keras import optimizers\n",
    "from keras.callbacks import EarlyStopping, ModelCheckpoint\n",
    "import numpy \n"
   ]
  },
  {
   "cell_type": "code",
   "execution_count": 2,
   "metadata": {},
   "outputs": [],
   "source": [
    "#    第一步：選擇模型, 順序模型是多個網絡層的線性堆疊\n",
    " \n",
    "model = Sequential()\n",
    "\n",
    "#   第二步：構建網絡層\n",
    " \n",
    "model.add(Dense( 500,input_shape=(784,))) # 輸入層，28*28=784   \n",
    "model.add(Activation('relu')) # 激活函數是relu   \n",
    "\n",
    "model.add(Dense( 500)) # 隱藏層節點500個   \n",
    "model.add(Activation('relu'))  \n",
    "\n",
    "model.add(Dense( 500)) # 隱藏層節點500個   \n",
    "model.add(Activation('relu'))  \n",
    "\n",
    "model.add(Dense( 500)) # 隱藏層節點500個   \n",
    "model.add(Activation('relu'))  \n",
    "\n",
    "model.add(Dense( 10)) # 輸出結果是10個類別，所以維度是10   \n",
    "model.add(Activation('softmax')) # 最後一層用softmax作為激活函數"
   ]
  },
  {
   "cell_type": "code",
   "execution_count": 3,
   "metadata": {},
   "outputs": [
    {
     "name": "stdout",
     "output_type": "stream",
     "text": [
      "Total Parameters：1149010\n"
     ]
    }
   ],
   "source": [
    "# 模型建立完成後，統計參數總量\n",
    "print(\"Total Parameters：%d\" % model.count_params())"
   ]
  },
  {
   "cell_type": "code",
   "execution_count": 4,
   "metadata": {},
   "outputs": [
    {
     "name": "stdout",
     "output_type": "stream",
     "text": [
      "_________________________________________________________________\n",
      "Layer (type)                 Output Shape              Param #   \n",
      "=================================================================\n",
      "dense_1 (Dense)              (None, 500)               392500    \n",
      "_________________________________________________________________\n",
      "activation_1 (Activation)    (None, 500)               0         \n",
      "_________________________________________________________________\n",
      "dense_2 (Dense)              (None, 500)               250500    \n",
      "_________________________________________________________________\n",
      "activation_2 (Activation)    (None, 500)               0         \n",
      "_________________________________________________________________\n",
      "dense_3 (Dense)              (None, 500)               250500    \n",
      "_________________________________________________________________\n",
      "activation_3 (Activation)    (None, 500)               0         \n",
      "_________________________________________________________________\n",
      "dense_4 (Dense)              (None, 500)               250500    \n",
      "_________________________________________________________________\n",
      "activation_4 (Activation)    (None, 500)               0         \n",
      "_________________________________________________________________\n",
      "dense_5 (Dense)              (None, 10)                5010      \n",
      "_________________________________________________________________\n",
      "activation_5 (Activation)    (None, 10)                0         \n",
      "=================================================================\n",
      "Total params: 1,149,010\n",
      "Trainable params: 1,149,010\n",
      "Non-trainable params: 0\n",
      "_________________________________________________________________\n"
     ]
    }
   ],
   "source": [
    "# 輸出模型摘要資訊\n",
    "model.summary()"
   ]
  },
  {
   "cell_type": "code",
   "execution_count": 5,
   "metadata": {},
   "outputs": [],
   "source": [
    " '''\n",
    " SGD(隨機梯度下降) - Arguments\n",
    "lr: float >= 0. Learning rate.\n",
    "momentum: float >= 0. Parameter that accelerates SGD in the relevant direction and dampens oscillations.\n",
    "decay: float >= 0. Learning rate decay over each update.\n",
    "nesterov: boolean. Whether to apply Nesterov momentum.\n",
    "'''\n",
    "\n",
    "\n",
    "'''\n",
    "RMSprop- Arguments\n",
    "lr: float >= 0. Learning rate.\n",
    "rho: float >= 0.\n",
    "epsilon: float >= 0. Fuzz factor. If None, defaults to K.epsilon().\n",
    "decay: float >= 0. Learning rate decay over each update.\n",
    "'''\n",
    "\n",
    "\n",
    "rmsprop = keras.optimizers.RMSprop(lr=0.001, rho=0.9, epsilon=None, decay=0.0)"
   ]
  },
  {
   "cell_type": "code",
   "execution_count": 6,
   "metadata": {},
   "outputs": [],
   "source": [
    "# 第三步：編譯, \n",
    "model.compile(optimizer = 'adam', loss = 'binary_crossentropy', metrics = ['accuracy'])"
   ]
  },
  {
   "cell_type": "code",
   "execution_count": 7,
   "metadata": {},
   "outputs": [],
   "source": [
    "#  第四步：資料分割\n",
    "# 使用Keras自帶的mnist工具讀取數據（第一次需要聯網）\n",
    "(X_train, y_train), (X_test, y_test) = mnist.load_data() \n",
    "\n",
    "# 由於mist的輸入數據維度是(num, 28 , 28)，這裡需要把後面的維度直接拼起來變成784維   \n",
    "X_train = X_train.reshape(X_train.shape[0], X_train.shape[1] * X_train.shape[2 ])\n",
    "X_test = X_test.reshape(X_test.shape[0], X_test.shape[1] * X_test.shape[2 ])  \n",
    "Y_train = (numpy.arange(10) == y_train[:, None]).astype(int)\n",
    "Y_test = (numpy.arange(10) == y_test[:, None]).astype(int)\n"
   ]
  },
  {
   "cell_type": "code",
   "execution_count": 8,
   "metadata": {},
   "outputs": [],
   "source": [
    "import tensorflow as tf\n",
    "import matplotlib.pyplot as plt\n",
    "gpu_options = tf.GPUOptions(per_process_gpu_memory_fraction=0.333)\n",
    "sess = tf.Session(config=tf.ConfigProto(gpu_options=gpu_options))"
   ]
  },
  {
   "cell_type": "markdown",
   "metadata": {},
   "source": [
    "### adam\n",
    "- batch_size = 128\n",
    "- epochs = 20"
   ]
  },
  {
   "cell_type": "code",
   "execution_count": 9,
   "metadata": {},
   "outputs": [
    {
     "name": "stdout",
     "output_type": "stream",
     "text": [
      "Train on 42000 samples, validate on 18000 samples\n",
      "Epoch 1/20\n",
      " - 5s - loss: 2.8842 - acc: 0.8198 - val_loss: 2.8890 - val_acc: 0.8198\n",
      "Epoch 2/20\n",
      " - 3s - loss: 2.8898 - acc: 0.8197 - val_loss: 2.8890 - val_acc: 0.8198\n",
      "Epoch 3/20\n",
      " - 3s - loss: 2.8898 - acc: 0.8197 - val_loss: 2.8890 - val_acc: 0.8198\n",
      "Epoch 4/20\n",
      " - 3s - loss: 2.8898 - acc: 0.8197 - val_loss: 2.8890 - val_acc: 0.8198\n",
      "Epoch 5/20\n",
      " - 4s - loss: 2.8898 - acc: 0.8197 - val_loss: 2.8890 - val_acc: 0.8198\n",
      "Epoch 6/20\n",
      " - 3s - loss: 2.8898 - acc: 0.8197 - val_loss: 2.8890 - val_acc: 0.8198\n",
      "Epoch 7/20\n",
      " - 3s - loss: 2.8898 - acc: 0.8197 - val_loss: 2.8890 - val_acc: 0.8198\n",
      "Epoch 8/20\n",
      " - 3s - loss: 2.8898 - acc: 0.8197 - val_loss: 2.8890 - val_acc: 0.8198\n",
      "Epoch 9/20\n",
      " - 4s - loss: 2.8898 - acc: 0.8197 - val_loss: 2.8890 - val_acc: 0.8198\n",
      "Epoch 10/20\n",
      " - 4s - loss: 2.8898 - acc: 0.8197 - val_loss: 2.8890 - val_acc: 0.8198\n",
      "Epoch 11/20\n",
      " - 4s - loss: 2.8898 - acc: 0.8197 - val_loss: 2.8890 - val_acc: 0.8198\n",
      "Epoch 12/20\n",
      " - 4s - loss: 2.8898 - acc: 0.8197 - val_loss: 2.8890 - val_acc: 0.8198\n",
      "Epoch 13/20\n",
      " - 5s - loss: 2.8898 - acc: 0.8197 - val_loss: 2.8890 - val_acc: 0.8198\n",
      "Epoch 14/20\n",
      " - 4s - loss: 2.8898 - acc: 0.8197 - val_loss: 2.8890 - val_acc: 0.8198\n",
      "Epoch 15/20\n",
      " - 4s - loss: 2.8898 - acc: 0.8197 - val_loss: 2.8890 - val_acc: 0.8198\n",
      "Epoch 16/20\n",
      " - 4s - loss: 2.8898 - acc: 0.8197 - val_loss: 2.8890 - val_acc: 0.8198\n",
      "Epoch 17/20\n",
      " - 4s - loss: 2.8898 - acc: 0.8197 - val_loss: 2.8890 - val_acc: 0.8198\n",
      "Epoch 18/20\n",
      " - 6s - loss: 2.8898 - acc: 0.8197 - val_loss: 2.8890 - val_acc: 0.8198\n",
      "Epoch 19/20\n",
      " - 5s - loss: 2.8898 - acc: 0.8197 - val_loss: 2.8890 - val_acc: 0.8198\n",
      "Epoch 20/20\n",
      " - 6s - loss: 2.8898 - acc: 0.8197 - val_loss: 2.8890 - val_acc: 0.8198\n"
     ]
    }
   ],
   "source": [
    "batch_size = 128\n",
    "epochs = 20\n",
    "history = model.fit(X_train,Y_train,batch_size = batch_size, epochs=epochs, shuffle=True,verbose=2,validation_split=0.3 )\n"
   ]
  },
  {
   "cell_type": "code",
   "execution_count": 10,
   "metadata": {},
   "outputs": [
    {
     "name": "stdout",
     "output_type": "stream",
     "text": [
      " test set \n",
      "\n",
      " The test loss is %f  [2.8918549060821532, 0.8196000051498413]\n",
      "\n",
      " The accuracy of the model is 0.098000 \n"
     ]
    },
    {
     "data": {
      "image/png": "[encoded data removed]",
      "text/plain": [
       "<Figure size 432x288 with 1 Axes>"
      ]
     },
     "metadata": {
      "needs_background": "light"
     },
     "output_type": "display_data"
    },
    {
     "data": {
      "image/png": "[encoded data removed]",
      "text/plain": [
       "<Figure size 432x288 with 1 Axes>"
      ]
     },
     "metadata": {
      "needs_background": "light"
     },
     "output_type": "display_data"
    }
   ],
   "source": [
    "print ( \" test set \" )\n",
    "scores = model.evaluate(X_test,Y_test,batch_size=200,verbose= 0)\n",
    "print ( \"\" )\n",
    "print ( \" The test loss is %f \", scores)\n",
    "result = model.predict(X_test,batch_size=200,verbose= 0)\n",
    "\n",
    "result_max = numpy.argmax(result, axis = 1 )\n",
    "test_max = numpy.argmax(Y_test, axis = 1 )\n",
    "\n",
    "result_bool = numpy.equal(result_max, test_max)\n",
    "true_num = numpy.sum(result_bool)\n",
    "print ( \"\" )\n",
    "print ( \" The accuracy of the model is %f \" % (true_num/len(result_bool)))\n",
    "# Plot training & validation accuracy values\n",
    "plt.plot(history.history['acc'])\n",
    "plt.plot(history.history['val_acc'])\n",
    "plt.title('Model accuracy')\n",
    "plt.ylabel('Accuracy')\n",
    "plt.xlabel('Epoch')\n",
    "plt.legend(['Train', 'Test'], loc='upper left')\n",
    "plt.show()\n",
    "\n",
    "# Plot training & validation loss values\n",
    "plt.plot(history.history['loss'])\n",
    "plt.plot(history.history['val_loss'])\n",
    "plt.title('Model loss')\n",
    "plt.ylabel('Loss')\n",
    "plt.xlabel('Epoch')\n",
    "plt.legend(['Train', 'Test'], loc='upper left')\n",
    "plt.show()"
   ]
  },
  {
   "cell_type": "markdown",
   "metadata": {},
   "source": [
    "### adam\n",
    "- batch_size = 256\n",
    "- epochs = 20"
   ]
  },
  {
   "cell_type": "code",
   "execution_count": 11,
   "metadata": {},
   "outputs": [
    {
     "name": "stdout",
     "output_type": "stream",
     "text": [
      "Train on 42000 samples, validate on 18000 samples\n",
      "Epoch 1/20\n",
      " - 3s - loss: 2.8837 - acc: 0.8198 - val_loss: 2.8890 - val_acc: 0.8198\n",
      "Epoch 2/20\n",
      " - 2s - loss: 2.8898 - acc: 0.8197 - val_loss: 2.8890 - val_acc: 0.8198\n",
      "Epoch 3/20\n",
      " - 2s - loss: 2.8898 - acc: 0.8197 - val_loss: 2.8890 - val_acc: 0.8198\n",
      "Epoch 4/20\n",
      " - 2s - loss: 2.8898 - acc: 0.8197 - val_loss: 2.8890 - val_acc: 0.8198\n",
      "Epoch 5/20\n",
      " - 2s - loss: 2.8898 - acc: 0.8197 - val_loss: 2.8890 - val_acc: 0.8198\n",
      "Epoch 6/20\n",
      " - 2s - loss: 2.8898 - acc: 0.8197 - val_loss: 2.8890 - val_acc: 0.8198\n",
      "Epoch 7/20\n",
      " - 2s - loss: 2.8898 - acc: 0.8197 - val_loss: 2.8890 - val_acc: 0.8198\n",
      "Epoch 8/20\n",
      " - 2s - loss: 2.8898 - acc: 0.8197 - val_loss: 2.8890 - val_acc: 0.8198\n",
      "Epoch 9/20\n",
      " - 2s - loss: 2.8898 - acc: 0.8197 - val_loss: 2.8890 - val_acc: 0.8198\n",
      "Epoch 10/20\n",
      " - 2s - loss: 2.8898 - acc: 0.8197 - val_loss: 2.8890 - val_acc: 0.8198\n",
      "Epoch 11/20\n",
      " - 2s - loss: 2.8898 - acc: 0.8197 - val_loss: 2.8890 - val_acc: 0.8198\n",
      "Epoch 12/20\n",
      " - 2s - loss: 2.8898 - acc: 0.8197 - val_loss: 2.8890 - val_acc: 0.8198\n",
      "Epoch 13/20\n",
      " - 2s - loss: 2.8898 - acc: 0.8197 - val_loss: 2.8890 - val_acc: 0.8198\n",
      "Epoch 14/20\n",
      " - 2s - loss: 2.8898 - acc: 0.8197 - val_loss: 2.8890 - val_acc: 0.8198\n",
      "Epoch 15/20\n",
      " - 2s - loss: 2.8898 - acc: 0.8197 - val_loss: 2.8890 - val_acc: 0.8198\n",
      "Epoch 16/20\n",
      " - 2s - loss: 2.8898 - acc: 0.8197 - val_loss: 2.8890 - val_acc: 0.8198\n",
      "Epoch 17/20\n",
      " - 3s - loss: 2.8898 - acc: 0.8197 - val_loss: 2.8890 - val_acc: 0.8198\n",
      "Epoch 18/20\n",
      " - 3s - loss: 2.8898 - acc: 0.8197 - val_loss: 2.8890 - val_acc: 0.8198\n",
      "Epoch 19/20\n",
      " - 2s - loss: 2.8898 - acc: 0.8197 - val_loss: 2.8890 - val_acc: 0.8198\n",
      "Epoch 20/20\n",
      " - 3s - loss: 2.8898 - acc: 0.8197 - val_loss: 2.8890 - val_acc: 0.8198\n",
      " test set \n",
      "\n",
      " The test loss is %f  [2.8918549060821532, 0.8196000051498413]\n",
      "\n",
      " The accuracy of the model is 0.098000 \n"
     ]
    },
    {
     "data": {
      "image/png": "[encoded data removed]",
      "text/plain": [
       "<Figure size 432x288 with 1 Axes>"
      ]
     },
     "metadata": {
      "needs_background": "light"
     },
     "output_type": "display_data"
    },
    {
     "data": {
      "image/png": "[encoded data removed]",
      "text/plain": [
       "<Figure size 432x288 with 1 Axes>"
      ]
     },
     "metadata": {
      "needs_background": "light"
     },
     "output_type": "display_data"
    }
   ],
   "source": [
    "#    第一步：選擇模型, 順序模型是多個網絡層的線性堆疊\n",
    " \n",
    "model_lowbatchsize = Sequential()\n",
    "\n",
    "#   第二步：構建網絡層\n",
    " \n",
    "model_lowbatchsize.add(Dense( 500,input_shape=(784,))) # 輸入層，28*28=784   \n",
    "model_lowbatchsize.add(Activation('relu')) # 激活函數是relu   \n",
    "\n",
    "model_lowbatchsize.add(Dense( 500)) # 隱藏層節點500個   \n",
    "model_lowbatchsize.add(Activation('relu'))  \n",
    "\n",
    "model_lowbatchsize.add(Dense( 500)) # 隱藏層節點500個   \n",
    "model_lowbatchsize.add(Activation('relu'))  \n",
    "\n",
    "model_lowbatchsize.add(Dense( 500)) # 隱藏層節點500個   \n",
    "model_lowbatchsize.add(Activation('relu'))  \n",
    "\n",
    "model_lowbatchsize.add(Dense( 10)) # 輸出結果是10個類別，所以維度是10   \n",
    "model_lowbatchsize.add(Activation('softmax')) # 最後一層用softmax作為激活函數\n",
    "\n",
    "model_lowbatchsize.compile(optimizer = 'adam', loss = 'binary_crossentropy', metrics = ['accuracy'])\n",
    "batch_size = 256\n",
    "epochs = 20\n",
    "history = model_lowbatchsize.fit(X_train,Y_train,batch_size = batch_size, epochs=epochs, shuffle=True,verbose=2,validation_split=0.3 )\n",
    "print ( \" test set \" )\n",
    "scores = model_lowbatchsize.evaluate(X_test,Y_test,batch_size=200,verbose= 0)\n",
    "print ( \"\" )\n",
    "#print ( \" The test loss is %f \" % scores)\n",
    "print ( \" The test loss is %f \", scores)\n",
    "result = model_lowbatchsize.predict(X_test,batch_size=200,verbose= 0)\n",
    "\n",
    "result_max = numpy.argmax(result, axis = 1 )\n",
    "test_max = numpy.argmax(Y_test, axis = 1 )\n",
    "\n",
    "result_bool = numpy.equal(result_max, test_max)\n",
    "true_num = numpy.sum(result_bool)\n",
    "print ( \"\" )\n",
    "print ( \" The accuracy of the model is %f \" % (true_num/len(result_bool)))\n",
    "# Plot training & validation accuracy values\n",
    "plt.plot(history.history['acc'])\n",
    "plt.plot(history.history['val_acc'])\n",
    "plt.title('Model accuracy')\n",
    "plt.ylabel('Accuracy')\n",
    "plt.xlabel('Epoch')\n",
    "plt.legend(['Train', 'Test'], loc='upper left')\n",
    "plt.show()\n",
    "\n",
    "# Plot training & validation loss values\n",
    "plt.plot(history.history['loss'])\n",
    "plt.plot(history.history['val_loss'])\n",
    "plt.title('Model loss')\n",
    "plt.ylabel('Loss')\n",
    "plt.xlabel('Epoch')\n",
    "plt.legend(['Train', 'Test'], loc='upper left')\n",
    "plt.show()"
   ]
  },
  {
   "cell_type": "markdown",
   "metadata": {},
   "source": [
    "### SGD"
   ]
  },
  {
   "cell_type": "code",
   "execution_count": 12,
   "metadata": {},
   "outputs": [
    {
     "name": "stdout",
     "output_type": "stream",
     "text": [
      "Train on 42000 samples, validate on 18000 samples\n",
      "Epoch 1/20\n",
      " - 4s - loss: 1.0552 - acc: 0.9146 - val_loss: 0.1620 - val_acc: 0.9691\n",
      "Epoch 2/20\n",
      " - 3s - loss: 0.0696 - acc: 0.9837 - val_loss: 0.0789 - val_acc: 0.9812\n",
      "Epoch 3/20\n",
      " - 3s - loss: 0.0345 - acc: 0.9905 - val_loss: 0.0799 - val_acc: 0.9812\n",
      "Epoch 4/20\n",
      " - 3s - loss: 0.0205 - acc: 0.9942 - val_loss: 0.0543 - val_acc: 0.9861\n",
      "Epoch 5/20\n",
      " - 3s - loss: 0.0128 - acc: 0.9965 - val_loss: 0.0503 - val_acc: 0.9870\n",
      "Epoch 6/20\n",
      " - 3s - loss: 0.0082 - acc: 0.9980 - val_loss: 0.0468 - val_acc: 0.9884\n",
      "Epoch 7/20\n",
      " - 3s - loss: 0.0055 - acc: 0.9988 - val_loss: 0.0461 - val_acc: 0.9887\n",
      "Epoch 8/20\n",
      " - 3s - loss: 0.0038 - acc: 0.9993 - val_loss: 0.0457 - val_acc: 0.9889\n",
      "Epoch 9/20\n",
      " - 3s - loss: 0.0029 - acc: 0.9995 - val_loss: 0.0453 - val_acc: 0.9891\n",
      "Epoch 10/20\n",
      " - 3s - loss: 0.0022 - acc: 0.9997 - val_loss: 0.0452 - val_acc: 0.9889\n",
      "Epoch 11/20\n",
      " - 3s - loss: 0.0017 - acc: 0.9998 - val_loss: 0.0453 - val_acc: 0.9892\n",
      "Epoch 12/20\n",
      " - 3s - loss: 0.0015 - acc: 0.9999 - val_loss: 0.0449 - val_acc: 0.9893\n",
      "Epoch 13/20\n",
      " - 3s - loss: 0.0012 - acc: 0.9999 - val_loss: 0.0450 - val_acc: 0.9892\n",
      "Epoch 14/20\n",
      " - 3s - loss: 0.0010 - acc: 0.9999 - val_loss: 0.0454 - val_acc: 0.9894\n",
      "Epoch 15/20\n",
      " - 3s - loss: 9.2332e-04 - acc: 0.9999 - val_loss: 0.0451 - val_acc: 0.9894\n",
      "Epoch 16/20\n",
      " - 3s - loss: 8.3569e-04 - acc: 1.0000 - val_loss: 0.0451 - val_acc: 0.9895\n",
      "Epoch 17/20\n",
      " - 3s - loss: 7.8068e-04 - acc: 1.0000 - val_loss: 0.0451 - val_acc: 0.9895\n",
      "Epoch 18/20\n",
      " - 3s - loss: 7.4044e-04 - acc: 1.0000 - val_loss: 0.0451 - val_acc: 0.9896\n",
      "Epoch 19/20\n",
      " - 3s - loss: 7.0323e-04 - acc: 1.0000 - val_loss: 0.0450 - val_acc: 0.9897\n",
      "Epoch 20/20\n",
      " - 3s - loss: 6.7684e-04 - acc: 1.0000 - val_loss: 0.0452 - val_acc: 0.9897\n",
      " test set \n",
      "\n",
      " The test loss is %f  [0.04111734653590247, 0.9904200303554535]\n",
      "\n",
      " The accuracy of the model is 0.951200 \n"
     ]
    },
    {
     "data": {
      "image/png": "[encoded data removed]",
      "text/plain": [
       "<Figure size 432x288 with 1 Axes>"
      ]
     },
     "metadata": {
      "needs_background": "light"
     },
     "output_type": "display_data"
    },
    {
     "data": {
      "image/png": "[encoded data removed]",
      "text/plain": [
       "<Figure size 432x288 with 1 Axes>"
      ]
     },
     "metadata": {
      "needs_background": "light"
     },
     "output_type": "display_data"
    }
   ],
   "source": [
    "#    第一步：選擇模型, 順序模型是多個網絡層的線性堆疊\n",
    " \n",
    "model_sgd = Sequential()\n",
    "\n",
    "#   第二步：構建網絡層\n",
    " \n",
    "model_sgd.add(Dense( 500,input_shape=(784,))) # 輸入層，28*28=784   \n",
    "model_sgd.add(Activation('relu')) # 激活函數是relu   \n",
    "\n",
    "model_sgd.add(Dense( 500)) # 隱藏層節點500個   \n",
    "model_sgd.add(Activation('relu'))  \n",
    "\n",
    "model_sgd.add(Dense( 500)) # 隱藏層節點500個   \n",
    "model_sgd.add(Activation('relu'))  \n",
    "\n",
    "model_sgd.add(Dense( 500)) # 隱藏層節點500個   \n",
    "model_sgd.add(Activation('relu'))  \n",
    "\n",
    "model_sgd.add(Dense( 10)) # 輸出結果是10個類別，所以維度是10   \n",
    "model_sgd.add(Activation('softmax')) # 最後一層用softmax作為激活函數\n",
    "\n",
    "model_sgd.compile(optimizer = 'sgd', loss = 'binary_crossentropy', metrics = ['accuracy'])\n",
    "\n",
    "batch_size = 128\n",
    "epochs = 20\n",
    "history = model_sgd.fit(X_train,Y_train,batch_size = batch_size, epochs=epochs, shuffle=True,verbose=2,validation_split=0.3 )\n",
    "print ( \" test set \" )\n",
    "scores = model_sgd.evaluate(X_test,Y_test,batch_size=200,verbose= 0)\n",
    "print ( \"\" )\n",
    "#print ( \" The test loss is %f \" % scores)\n",
    "print ( \" The test loss is %f \", scores)\n",
    "result = model_sgd.predict(X_test,batch_size=200,verbose= 0)\n",
    "\n",
    "result_max = numpy.argmax(result, axis = 1 )\n",
    "test_max = numpy.argmax(Y_test, axis = 1 )\n",
    "\n",
    "result_bool = numpy.equal(result_max, test_max)\n",
    "true_num = numpy.sum(result_bool)\n",
    "print ( \"\" )\n",
    "print ( \" The accuracy of the model is %f \" % (true_num/len(result_bool)))\n",
    "# Plot training & validation accuracy values\n",
    "plt.plot(history.history['acc'])\n",
    "plt.plot(history.history['val_acc'])\n",
    "plt.title('Model accuracy')\n",
    "plt.ylabel('Accuracy')\n",
    "plt.xlabel('Epoch')\n",
    "plt.legend(['Train', 'Test'], loc='upper left')\n",
    "plt.show()\n",
    "\n",
    "# Plot training & validation loss values\n",
    "plt.plot(history.history['loss'])\n",
    "plt.plot(history.history['val_loss'])\n",
    "plt.title('Model loss')\n",
    "plt.ylabel('Loss')\n",
    "plt.xlabel('Epoch')\n",
    "plt.legend(['Train', 'Test'], loc='upper left')\n",
    "plt.show()"
   ]
  },
  {
   "cell_type": "markdown",
   "metadata": {},
   "source": [
    "### Rmsprop"
   ]
  },
  {
   "cell_type": "code",
   "execution_count": 15,
   "metadata": {},
   "outputs": [
    {
     "name": "stdout",
     "output_type": "stream",
     "text": [
      "Train on 42000 samples, validate on 18000 samples\n",
      "Epoch 1/8\n",
      " - 4s - loss: 2.8853 - acc: 0.8199 - val_loss: 2.8965 - val_acc: 0.8193\n",
      "Epoch 2/8\n",
      " - 3s - loss: 2.8870 - acc: 0.8199 - val_loss: 2.8965 - val_acc: 0.8193\n",
      "Epoch 3/8\n",
      " - 3s - loss: 2.8870 - acc: 0.8199 - val_loss: 2.8965 - val_acc: 0.8193\n",
      "Epoch 4/8\n",
      " - 4s - loss: 2.8870 - acc: 0.8199 - val_loss: 2.8965 - val_acc: 0.8193\n",
      "Epoch 5/8\n",
      " - 3s - loss: 2.8870 - acc: 0.8199 - val_loss: 2.8965 - val_acc: 0.8193\n",
      "Epoch 6/8\n",
      " - 3s - loss: 2.8870 - acc: 0.8199 - val_loss: 2.8965 - val_acc: 0.8193\n",
      "Epoch 7/8\n",
      " - 3s - loss: 2.8870 - acc: 0.8199 - val_loss: 2.8965 - val_acc: 0.8193\n",
      "Epoch 8/8\n",
      " - 3s - loss: 2.8870 - acc: 0.8199 - val_loss: 2.8965 - val_acc: 0.8193\n",
      " test set \n",
      "\n",
      " The test loss is %f  [2.8989082527160646, 0.8191600251197815]\n",
      "\n",
      " The accuracy of the model is 0.095800 \n"
     ]
    },
    {
     "data": {
      "image/png": "[encoded data removed]",
      "text/plain": [
       "<Figure size 432x288 with 1 Axes>"
      ]
     },
     "metadata": {
      "needs_background": "light"
     },
     "output_type": "display_data"
    },
    {
     "data": {
      "image/png": "[encoded data removed]",
      "text/plain": [
       "<Figure size 432x288 with 1 Axes>"
      ]
     },
     "metadata": {
      "needs_background": "light"
     },
     "output_type": "display_data"
    }
   ],
   "source": [
    "#    第一步：選擇模型, 順序模型是多個網絡層的線性堆疊\n",
    " \n",
    "model_rmsprop = Sequential()\n",
    "\n",
    "#   第二步：構建網絡層\n",
    " \n",
    "model_rmsprop.add(Dense( 500,input_shape=(784,))) # 輸入層，28*28=784   \n",
    "model_rmsprop.add(Activation('relu')) # 激活函數是relu   \n",
    "\n",
    "model_rmsprop.add(Dense( 500)) # 隱藏層節點500個   \n",
    "model_rmsprop.add(Activation('relu'))  \n",
    "\n",
    "model_rmsprop.add(Dense( 500)) # 隱藏層節點500個   \n",
    "model_rmsprop.add(Activation('relu'))  \n",
    "\n",
    "model_rmsprop.add(Dense( 500)) # 隱藏層節點500個   \n",
    "model_rmsprop.add(Activation('relu'))  \n",
    "\n",
    "model_rmsprop.add(Dense( 10)) # 輸出結果是10個類別，所以維度是10   \n",
    "model_rmsprop.add(Activation('softmax')) # 最後一層用softmax作為激活函數\n",
    "\n",
    "\n",
    "rmsprop = keras.optimizers.RMSprop(lr=0.1, rho=0.9, epsilon=None, decay=0.0)\n",
    "model_rmsprop.compile(optimizer = rmsprop, loss = 'binary_crossentropy', metrics = ['accuracy'])\n",
    "\n",
    "batch_size = 128\n",
    "epochs = 8\n",
    "history = model_rmsprop.fit(X_train,Y_train,batch_size = batch_size, epochs=epochs, shuffle=True,verbose=2,validation_split=0.3 )\n",
    "print ( \" test set \" )\n",
    "scores = model_rmsprop.evaluate(X_test,Y_test,batch_size=200,verbose= 0)\n",
    "print ( \"\" )\n",
    "#print ( \" The test loss is %f \" % scores)\n",
    "print ( \" The test loss is %f \", scores)\n",
    "result = model_rmsprop.predict(X_test,batch_size=200,verbose= 0)\n",
    "\n",
    "result_max = numpy.argmax(result, axis = 1 )\n",
    "test_max = numpy.argmax(Y_test, axis = 1 )\n",
    "\n",
    "result_bool = numpy.equal(result_max, test_max)\n",
    "true_num = numpy.sum(result_bool)\n",
    "print ( \"\" )\n",
    "print ( \" The accuracy of the model is %f \" % (true_num/len(result_bool)))\n",
    "# Plot training & validation accuracy values\n",
    "plt.plot(history.history['acc'])\n",
    "plt.plot(history.history['val_acc'])\n",
    "plt.title('Model accuracy')\n",
    "plt.ylabel('Accuracy')\n",
    "plt.xlabel('Epoch')\n",
    "plt.legend(['Train', 'Test'], loc='upper left')\n",
    "plt.show()\n",
    "\n",
    "# Plot training & validation loss values\n",
    "plt.plot(history.history['loss'])\n",
    "plt.plot(history.history['val_loss'])\n",
    "plt.title('Model loss')\n",
    "plt.ylabel('Loss')\n",
    "plt.xlabel('Epoch')\n",
    "plt.legend(['Train', 'Test'], loc='upper left')\n",
    "plt.show()"
   ]
  },
  {
   "cell_type": "code",
   "execution_count": null,
   "metadata": {},
   "outputs": [],
   "source": []
  }
 ],
 "metadata": {
  "kernelspec": {
   "display_name": "Python 3",
   "language": "python",
   "name": "python3"
  },
  "language_info": {
   "codemirror_mode": {
    "name": "ipython",
    "version": 3
   },
   "file_extension": ".py",
   "mimetype": "text/x-python",
   "name": "python",
   "nbconvert_exporter": "python",
   "pygments_lexer": "ipython3",
   "version": "3.6.8"
  }
 },
 "nbformat": 4,
 "nbformat_minor": 2
}
