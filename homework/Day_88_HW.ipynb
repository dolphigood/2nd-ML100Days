{
 "cells": [
  {
   "cell_type": "markdown",
   "metadata": {},
   "source": [
    "## Work\n",
    "1. 請嘗試寫一個 callback 用來記錄各類別在訓練過程中，對驗證集的 True Positive 與 True Negative"
   ]
  },
  {
   "cell_type": "code",
   "execution_count": 1,
   "metadata": {},
   "outputs": [
    {
     "name": "stderr",
     "output_type": "stream",
     "text": [
      "Using TensorFlow backend.\n"
     ]
    }
   ],
   "source": [
    "import os\n",
    "import keras\n",
    "\n",
    "# Disable GPU\n",
    "os.environ[\"CUDA_VISIBLE_DEVICES\"] = \"\""
   ]
  },
  {
   "cell_type": "code",
   "execution_count": 2,
   "metadata": {},
   "outputs": [],
   "source": [
    "train, test = keras.datasets.cifar10.load_data()"
   ]
  },
  {
   "cell_type": "code",
   "execution_count": 3,
   "metadata": {},
   "outputs": [],
   "source": [
    "## 資料前處理\n",
    "def preproc_x(x, flatten=True):\n",
    "    x = x / 255.\n",
    "    if flatten:\n",
    "        x = x.reshape((len(x), -1))\n",
    "    return x\n",
    "\n",
    "def preproc_y(y, num_classes=10):\n",
    "    if y.shape[-1] == 1:\n",
    "        y = keras.utils.to_categorical(y, num_classes)\n",
    "    return y    "
   ]
  },
  {
   "cell_type": "code",
   "execution_count": 4,
   "metadata": {},
   "outputs": [],
   "source": [
    "x_train, y_train = train\n",
    "x_test, y_test = test\n",
    "\n",
    "# Preproc the inputs\n",
    "x_train = preproc_x(x_train)\n",
    "x_test = preproc_x(x_test)\n",
    "\n",
    "# Preprc the outputs\n",
    "y_train = preproc_y(y_train)\n",
    "y_test = preproc_y(y_test)"
   ]
  },
  {
   "cell_type": "code",
   "execution_count": 5,
   "metadata": {},
   "outputs": [],
   "source": [
    "from keras.layers import BatchNormalization\n",
    "def build_mlp(input_shape, output_units=10, num_neurons=[256, 256, 256]):\n",
    "    input_layer = keras.layers.Input(input_shape)\n",
    "    \n",
    "    for i, n_units in enumerate(num_neurons):\n",
    "        if i == 0:\n",
    "            x = keras.layers.Dense(units=n_units, \n",
    "                                   activation=\"relu\", \n",
    "                                   name=\"hidden_layer\"+str(i+1))(input_layer)\n",
    "            x = BatchNormalization()(x)\n",
    "        else:\n",
    "            x = keras.layers.Dense(units=n_units, \n",
    "                                   activation=\"relu\", \n",
    "                                   name=\"hidden_layer\"+str(i+1))(x)\n",
    "            x = BatchNormalization()(x)\n",
    "    \n",
    "    out = keras.layers.Dense(units=output_units, activation=\"softmax\", name=\"output\")(x)\n",
    "    \n",
    "    model = keras.models.Model(inputs=[input_layer], outputs=[out])\n",
    "    return model"
   ]
  },
  {
   "cell_type": "code",
   "execution_count": 6,
   "metadata": {},
   "outputs": [],
   "source": [
    "## 超參數設定\n",
    "LEARNING_RATE = 1e-3\n",
    "EPOCHS = 25\n",
    "BATCH_SIZE = 1024\n",
    "MOMENTUM = 0.95"
   ]
  },
  {
   "cell_type": "code",
   "execution_count": 7,
   "metadata": {},
   "outputs": [],
   "source": [
    "# 載入 Callbacks\n",
    "from keras.callbacks import Callback\n",
    "import numpy as np\n",
    "\n",
    "# Record_fp_tp\n",
    "class Record_tp_tn(Callback):\n",
    "    def on_train_begin(self, epoch, logs = {}):\n",
    "        logs = logs or {}\n",
    "        record_items = [\"val_tp\", \"val_tn\"]\n",
    "        for i in record_items:\n",
    "            if i not in self.params['metrics']:\n",
    "                self.params['metrics'].append(i)\n",
    "    \n",
    "    def on_epoch_end(self, epoch, logs = {}, thres=0.5):\n",
    "        logs = logs or {}\n",
    "        y_true = self.validation_data[1].argmax(axis = 1)\n",
    "        y_pred = self.model.predict(self.validation_data[0])\n",
    "        y_pred = (y_pred[:, 1] >= thres) * 1\n",
    "        true_p = np.sum(np.logical_and(y_pred==1, y_true==1))\n",
    "        true_n = np.sum(np.logical_and(y_pred==0, y_true==0))\n",
    "        logs['true_p'] = true_p\n",
    "        logs['true_n'] = true_n\n",
    "    \n",
    "rec_tptn = Record_tp_tn()\n"
   ]
  },
  {
   "cell_type": "code",
   "execution_count": 8,
   "metadata": {
    "scrolled": true
   },
   "outputs": [
    {
     "name": "stdout",
     "output_type": "stream",
     "text": [
      "_________________________________________________________________\n",
      "Layer (type)                 Output Shape              Param #   \n",
      "=================================================================\n",
      "input_1 (InputLayer)         (None, 3072)              0         \n",
      "_________________________________________________________________\n",
      "hidden_layer1 (Dense)        (None, 256)               786688    \n",
      "_________________________________________________________________\n",
      "batch_normalization_1 (Batch (None, 256)               1024      \n",
      "_________________________________________________________________\n",
      "hidden_layer2 (Dense)        (None, 256)               65792     \n",
      "_________________________________________________________________\n",
      "batch_normalization_2 (Batch (None, 256)               1024      \n",
      "_________________________________________________________________\n",
      "hidden_layer3 (Dense)        (None, 256)               65792     \n",
      "_________________________________________________________________\n",
      "batch_normalization_3 (Batch (None, 256)               1024      \n",
      "_________________________________________________________________\n",
      "output (Dense)               (None, 10)                2570      \n",
      "=================================================================\n",
      "Total params: 923,914\n",
      "Trainable params: 922,378\n",
      "Non-trainable params: 1,536\n",
      "_________________________________________________________________\n",
      "Train on 50000 samples, validate on 10000 samples\n",
      "Epoch 1/25\n",
      "50000/50000 [==============================] - 8s 153us/step - loss: 2.2818 - acc: 0.2604 - val_loss: 2.2721 - val_acc: 0.2981\n",
      "Epoch 2/25\n",
      "50000/50000 [==============================] - 3s 62us/step - loss: 1.7804 - acc: 0.3844 - val_loss: 1.8840 - val_acc: 0.3666\n",
      "Epoch 3/25\n",
      "50000/50000 [==============================] - 3s 62us/step - loss: 1.6463 - acc: 0.4236 - val_loss: 1.7354 - val_acc: 0.4051\n",
      "Epoch 4/25\n",
      "50000/50000 [==============================] - 3s 61us/step - loss: 1.5685 - acc: 0.4492 - val_loss: 1.6610 - val_acc: 0.4219\n",
      "Epoch 5/25\n",
      "50000/50000 [==============================] - 3s 62us/step - loss: 1.5117 - acc: 0.4704 - val_loss: 1.6148 - val_acc: 0.4308\n",
      "Epoch 6/25\n",
      "50000/50000 [==============================] - 3s 63us/step - loss: 1.4665 - acc: 0.4839 - val_loss: 1.6058 - val_acc: 0.4400\n",
      "Epoch 7/25\n",
      "50000/50000 [==============================] - 3s 62us/step - loss: 1.4304 - acc: 0.4989 - val_loss: 1.5622 - val_acc: 0.4454\n",
      "Epoch 8/25\n",
      "50000/50000 [==============================] - 3s 62us/step - loss: 1.3963 - acc: 0.5095 - val_loss: 1.5365 - val_acc: 0.4569\n",
      "Epoch 9/25\n",
      "50000/50000 [==============================] - 3s 61us/step - loss: 1.3663 - acc: 0.5208 - val_loss: 1.5330 - val_acc: 0.4586\n",
      "Epoch 10/25\n",
      "50000/50000 [==============================] - 3s 61us/step - loss: 1.3401 - acc: 0.5298 - val_loss: 1.5160 - val_acc: 0.4708\n",
      "Epoch 11/25\n",
      "50000/50000 [==============================] - 3s 62us/step - loss: 1.3137 - acc: 0.5382 - val_loss: 1.4914 - val_acc: 0.4730\n",
      "Epoch 12/25\n",
      "50000/50000 [==============================] - 3s 62us/step - loss: 1.2888 - acc: 0.5477 - val_loss: 1.4841 - val_acc: 0.4763\n",
      "Epoch 13/25\n",
      "50000/50000 [==============================] - 3s 62us/step - loss: 1.2659 - acc: 0.5563 - val_loss: 1.4882 - val_acc: 0.4739\n",
      "Epoch 14/25\n",
      "50000/50000 [==============================] - 3s 62us/step - loss: 1.2466 - acc: 0.5640 - val_loss: 1.4852 - val_acc: 0.4741\n",
      "Epoch 15/25\n",
      "50000/50000 [==============================] - 3s 64us/step - loss: 1.2245 - acc: 0.5714 - val_loss: 1.4651 - val_acc: 0.4832\n",
      "Epoch 16/25\n",
      "50000/50000 [==============================] - 3s 63us/step - loss: 1.2042 - acc: 0.5797 - val_loss: 1.4556 - val_acc: 0.4830\n",
      "Epoch 17/25\n",
      "50000/50000 [==============================] - 3s 67us/step - loss: 1.1848 - acc: 0.5869 - val_loss: 1.4640 - val_acc: 0.4854\n",
      "Epoch 18/25\n",
      "50000/50000 [==============================] - 3s 64us/step - loss: 1.1664 - acc: 0.5955 - val_loss: 1.4579 - val_acc: 0.4845\n",
      "Epoch 19/25\n",
      "50000/50000 [==============================] - 3s 65us/step - loss: 1.1490 - acc: 0.6012 - val_loss: 1.4515 - val_acc: 0.4887\n",
      "Epoch 20/25\n",
      "50000/50000 [==============================] - 3s 63us/step - loss: 1.1299 - acc: 0.6089 - val_loss: 1.4401 - val_acc: 0.4948\n",
      "Epoch 21/25\n",
      "50000/50000 [==============================] - 3s 67us/step - loss: 1.1115 - acc: 0.6163 - val_loss: 1.4486 - val_acc: 0.4870\n",
      "Epoch 22/25\n",
      "50000/50000 [==============================] - 3s 64us/step - loss: 1.0959 - acc: 0.6222 - val_loss: 1.4485 - val_acc: 0.4936\n",
      "Epoch 23/25\n",
      "50000/50000 [==============================] - 3s 63us/step - loss: 1.0782 - acc: 0.6271 - val_loss: 1.4431 - val_acc: 0.4948\n",
      "Epoch 24/25\n",
      "50000/50000 [==============================] - 3s 69us/step - loss: 1.0618 - acc: 0.6343 - val_loss: 1.4499 - val_acc: 0.4909\n",
      "Epoch 25/25\n",
      "50000/50000 [==============================] - 4s 85us/step - loss: 1.0464 - acc: 0.6414 - val_loss: 1.4563 - val_acc: 0.4928\n"
     ]
    }
   ],
   "source": [
    "model = build_mlp(input_shape=x_train.shape[1:])\n",
    "model.summary()\n",
    "optimizer = keras.optimizers.SGD(lr=LEARNING_RATE, nesterov=True, momentum=MOMENTUM)\n",
    "model.compile(loss=\"categorical_crossentropy\", metrics=[\"accuracy\"], optimizer=optimizer)\n",
    "\n",
    "model.fit(x_train, y_train, \n",
    "          epochs=EPOCHS, \n",
    "          batch_size=BATCH_SIZE, \n",
    "          validation_data=(x_test, y_test), \n",
    "          shuffle=True,\n",
    "          callbacks=[rec_tptn]\n",
    "         )\n",
    "\n",
    "# Collect results\n",
    "train_loss = model.history.history[\"loss\"]\n",
    "valid_loss = model.history.history[\"val_loss\"]\n",
    "train_acc = model.history.history[\"acc\"]\n",
    "valid_acc = model.history.history[\"val_acc\"]\n",
    "\n",
    "\"\"\"Code Here\n",
    "將 tp/tn 從訓練完的模型中取出\n",
    "\"\"\"\n",
    "valid_tp = model.history.history['true_p']\n",
    "valid_tn = model.history.history['true_n']"
   ]
  },
  {
   "cell_type": "code",
   "execution_count": 9,
   "metadata": {},
   "outputs": [
    {
     "data": {
      "image/png": "[encoded data removed]",
      "text/plain": [
       "<Figure size 432x288 with 1 Axes>"
      ]
     },
     "metadata": {
      "needs_background": "light"
     },
     "output_type": "display_data"
    },
    {
     "data": {
      "image/png": "[encoded data removed]",
      "text/plain": [
       "<Figure size 432x288 with 1 Axes>"
      ]
     },
     "metadata": {
      "needs_background": "light"
     },
     "output_type": "display_data"
    },
    {
     "data": {
      "image/png": "[encoded data removed]",
      "text/plain": [
       "<Figure size 432x288 with 1 Axes>"
      ]
     },
     "metadata": {
      "needs_background": "light"
     },
     "output_type": "display_data"
    }
   ],
   "source": [
    "import matplotlib.pyplot as plt\n",
    "%matplotlib inline\n",
    "\n",
    "plt.plot(range(len(train_loss)), train_loss, label=\"train loss\")\n",
    "plt.plot(range(len(valid_loss)), valid_loss, label=\"valid loss\")\n",
    "plt.legend()\n",
    "plt.title(\"Loss\")\n",
    "plt.show()\n",
    "\n",
    "plt.plot(range(len(train_acc)), train_acc, label=\"train accuracy\")\n",
    "plt.plot(range(len(valid_acc)), valid_acc, label=\"valid accuracy\")\n",
    "plt.legend()\n",
    "plt.title(\"Accuracy\")\n",
    "plt.show()\n",
    "\n",
    "plt.plot(range(len(valid_tp)), valid_tp, label=\"valid tp\", color=\"navy\")\n",
    "plt.plot(range(len(valid_tn)), valid_tn, label=\"valid tn\", color=\"red\")\n",
    "plt.legend()\n",
    "plt.title(\"True positives and True Negatives\")\n",
    "plt.show()\n"
   ]
  }
 ],
 "metadata": {
  "kernelspec": {
   "display_name": "Python 3",
   "language": "python",
   "name": "python3"
  },
  "language_info": {
   "codemirror_mode": {
    "name": "ipython",
    "version": 3
   },
   "file_extension": ".py",
   "mimetype": "text/x-python",
   "name": "python",
   "nbconvert_exporter": "python",
   "pygments_lexer": "ipython3",
   "version": "3.6.8"
  }
 },
 "nbformat": 4,
 "nbformat_minor": 2
}
