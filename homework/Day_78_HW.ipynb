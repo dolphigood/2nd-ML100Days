{
 "cells": [
  {
   "cell_type": "markdown",
   "metadata": {},
   "source": [
    "## Work\n",
    "1. 請嘗試將 preproc_x 替換成以每筆資料的 min/max 進行標準化至 -1 ~ 1 間，再進行訓練\n",
    "2. 請嘗試將 mlp 疊更深 (e.g 5~10 層)，進行訓練後觀察 learning curve 的走勢\n",
    "3. (optional) 請改用 GPU 進行訓練 (如果你有 GPU 的話)，比較使用 CPU 與 GPU 的訓練速度\n",
    "\n",
    "### Answer:\n"
   ]
  },
  {
   "cell_type": "code",
   "execution_count": 31,
   "metadata": {},
   "outputs": [
    {
     "data": {
      "text/plain": [
       "'\\nYour code here (optional)\\n確認硬體資源\\n'"
      ]
     },
     "execution_count": 31,
     "metadata": {},
     "output_type": "execute_result"
    }
   ],
   "source": [
    "## \n",
    "\"\"\"\n",
    "Your code here (optional)\n",
    "確認硬體資源\n",
    "\"\"\"\n"
   ]
  },
  {
   "cell_type": "code",
   "execution_count": 32,
   "metadata": {},
   "outputs": [],
   "source": [
    "import os\n",
    "import keras\n",
    "import numpy as np\n",
    "\n",
    "# 請嘗試設定 GPU：os.environ\n",
    "os.environ[\"CUDA_VISIBLE_DEVICES\"] = \"\""
   ]
  },
  {
   "cell_type": "code",
   "execution_count": 33,
   "metadata": {},
   "outputs": [],
   "source": [
    "train, test = keras.datasets.cifar10.load_data()"
   ]
  },
  {
   "cell_type": "code",
   "execution_count": 34,
   "metadata": {},
   "outputs": [],
   "source": [
    "## 資料前處理\n",
    "\"\"\"\n",
    "Your code here\n",
    "\"\"\"\n",
    "def preproc_x(x, flatten=True):\n",
    "    a_max = np.max(x)\n",
    "    a_min = np.min(x)\n",
    "    x = 2/(a_max-a_min) * x + (-1 + 2*a_min/(a_max-a_min))    \n",
    "    if flatten:\n",
    "        x = x.reshape((len(x), -1))\n",
    "    return x\n",
    "\n",
    "def preproc_y(y, num_classes=10):\n",
    "    if y.shape[-1] == 1:\n",
    "        y = keras.utils.to_categorical(y, num_classes)\n",
    "    return y"
   ]
  },
  {
   "cell_type": "code",
   "execution_count": 35,
   "metadata": {},
   "outputs": [],
   "source": [
    "x_train, y_train = train\n",
    "x_test, y_test = test\n",
    "\n",
    "# Preproc the inputs\n",
    "x_train = preproc_x(x_train)\n",
    "x_test = preproc_x(x_test)\n",
    "\n",
    "# Preprc the outputs\n",
    "y_train = preproc_y(y_train)\n",
    "y_test = preproc_y(y_test)"
   ]
  },
  {
   "cell_type": "code",
   "execution_count": 36,
   "metadata": {},
   "outputs": [
    {
     "name": "stdout",
     "output_type": "stream",
     "text": [
      "_________________________________________________________________\n",
      "Layer (type)                 Output Shape              Param #   \n",
      "=================================================================\n",
      "input_5 (InputLayer)         (None, 3072)              0         \n",
      "_________________________________________________________________\n",
      "hidden_layer1 (Dense)        (None, 512)               1573376   \n",
      "_________________________________________________________________\n",
      "hidden_layer2 (Dense)        (None, 256)               131328    \n",
      "_________________________________________________________________\n",
      "hidden_layer3 (Dense)        (None, 128)               32896     \n",
      "_________________________________________________________________\n",
      "hidden_layer4 (Dense)        (None, 64)                8256      \n",
      "_________________________________________________________________\n",
      "hidden_layer5 (Dense)        (None, 32)                2080      \n",
      "_________________________________________________________________\n",
      "output (Dense)               (None, 10)                330       \n",
      "=================================================================\n",
      "Total params: 1,748,266\n",
      "Trainable params: 1,748,266\n",
      "Non-trainable params: 0\n",
      "_________________________________________________________________\n"
     ]
    }
   ],
   "source": [
    "\"\"\"Code Here\n",
    "建立你的神經網路\n",
    "\"\"\"\n",
    "\n",
    "def build_mlp(input_shape, output_units=10, num_neurons=[512, 256, 128, 64, 32]):\n",
    "    input_layer = keras.layers.Input(input_shape)\n",
    "    \n",
    "    for i, n_units in enumerate(num_neurons):\n",
    "        if i == 0:\n",
    "            x = keras.layers.Dense(units=n_units, activation=\"relu\", name=\"hidden_layer\"+str(i+1))(input_layer)\n",
    "        else:\n",
    "            x = keras.layers.Dense(units=n_units, activation=\"relu\", name=\"hidden_layer\"+str(i+1))(x)\n",
    "    \n",
    "    out = keras.layers.Dense(units=output_units, activation=\"softmax\", name=\"output\")(x)\n",
    "    \n",
    "    model = keras.models.Model(inputs=[input_layer], outputs=[out])\n",
    "    return model\n",
    "\n",
    "model = build_mlp(input_shape=x_train.shape[1:])\n",
    "model.summary()"
   ]
  },
  {
   "cell_type": "code",
   "execution_count": 37,
   "metadata": {},
   "outputs": [],
   "source": [
    "## 超參數設定\n",
    "LEARNING_RATE = 0.001\n",
    "EPOCHS = 100\n",
    "BATCH_SIZE = 256"
   ]
  },
  {
   "cell_type": "code",
   "execution_count": 38,
   "metadata": {},
   "outputs": [],
   "source": [
    "optimizer = keras.optimizers.Adam(lr=LEARNING_RATE)\n",
    "model.compile(loss=\"categorical_crossentropy\", metrics=[\"accuracy\"], optimizer=optimizer)"
   ]
  },
  {
   "cell_type": "code",
   "execution_count": 39,
   "metadata": {},
   "outputs": [
    {
     "name": "stdout",
     "output_type": "stream",
     "text": [
      "Train on 50000 samples, validate on 10000 samples\n",
      "Epoch 1/100\n",
      "50000/50000 [==============================] - 7s 137us/step - loss: 1.7263 - acc: 0.3925 - val_loss: 1.5523 - val_acc: 0.4478\n",
      "Epoch 2/100\n",
      "50000/50000 [==============================] - 6s 112us/step - loss: 1.4761 - acc: 0.4801 - val_loss: 1.4435 - val_acc: 0.4889\n",
      "Epoch 3/100\n",
      "50000/50000 [==============================] - 6s 117us/step - loss: 1.3543 - acc: 0.5234 - val_loss: 1.4089 - val_acc: 0.5038\n",
      "Epoch 4/100\n",
      "50000/50000 [==============================] - 7s 136us/step - loss: 1.2619 - acc: 0.5541 - val_loss: 1.3810 - val_acc: 0.5124\n",
      "Epoch 5/100\n",
      "50000/50000 [==============================] - 5s 104us/step - loss: 1.1805 - acc: 0.5852 - val_loss: 1.3455 - val_acc: 0.5290\n",
      "Epoch 6/100\n",
      "50000/50000 [==============================] - 5s 103us/step - loss: 1.0993 - acc: 0.6143 - val_loss: 1.3740 - val_acc: 0.5243\n",
      "Epoch 7/100\n",
      "50000/50000 [==============================] - 5s 102us/step - loss: 1.0271 - acc: 0.6370 - val_loss: 1.3845 - val_acc: 0.5302\n",
      "Epoch 8/100\n",
      "50000/50000 [==============================] - 5s 99us/step - loss: 0.9573 - acc: 0.6614 - val_loss: 1.3766 - val_acc: 0.5364\n",
      "Epoch 9/100\n",
      "50000/50000 [==============================] - 5s 96us/step - loss: 0.8891 - acc: 0.6868 - val_loss: 1.4123 - val_acc: 0.5371\n",
      "Epoch 10/100\n",
      "50000/50000 [==============================] - 5s 97us/step - loss: 0.8181 - acc: 0.7103 - val_loss: 1.4814 - val_acc: 0.5347\n",
      "Epoch 11/100\n",
      "50000/50000 [==============================] - 5s 96us/step - loss: 0.7495 - acc: 0.7346 - val_loss: 1.4894 - val_acc: 0.5404\n",
      "Epoch 12/100\n",
      "50000/50000 [==============================] - 5s 97us/step - loss: 0.6938 - acc: 0.7543 - val_loss: 1.5694 - val_acc: 0.5348\n",
      "Epoch 13/100\n",
      "50000/50000 [==============================] - 5s 97us/step - loss: 0.6267 - acc: 0.7800 - val_loss: 1.6219 - val_acc: 0.5436\n",
      "Epoch 14/100\n",
      "50000/50000 [==============================] - 5s 101us/step - loss: 0.5801 - acc: 0.7948 - val_loss: 1.6776 - val_acc: 0.5340\n",
      "Epoch 15/100\n",
      "50000/50000 [==============================] - 5s 103us/step - loss: 0.5335 - acc: 0.8121 - val_loss: 1.8113 - val_acc: 0.5207\n",
      "Epoch 16/100\n",
      "50000/50000 [==============================] - 7s 144us/step - loss: 0.4853 - acc: 0.8281 - val_loss: 1.9712 - val_acc: 0.5329\n",
      "Epoch 17/100\n",
      "50000/50000 [==============================] - 7s 148us/step - loss: 0.4459 - acc: 0.8418 - val_loss: 1.9299 - val_acc: 0.5299\n",
      "Epoch 18/100\n",
      "50000/50000 [==============================] - 5s 106us/step - loss: 0.3982 - acc: 0.8586 - val_loss: 2.0524 - val_acc: 0.5356\n",
      "Epoch 19/100\n",
      "50000/50000 [==============================] - 7s 136us/step - loss: 0.3692 - acc: 0.8701 - val_loss: 2.1398 - val_acc: 0.5312\n",
      "Epoch 20/100\n",
      "50000/50000 [==============================] - 6s 114us/step - loss: 0.3595 - acc: 0.8732 - val_loss: 2.2444 - val_acc: 0.5320\n",
      "Epoch 21/100\n",
      "50000/50000 [==============================] - 6s 111us/step - loss: 0.3235 - acc: 0.8869 - val_loss: 2.3334 - val_acc: 0.5265\n",
      "Epoch 22/100\n",
      "50000/50000 [==============================] - 7s 150us/step - loss: 0.2913 - acc: 0.8979 - val_loss: 2.3615 - val_acc: 0.5284\n",
      "Epoch 23/100\n",
      "50000/50000 [==============================] - 6s 115us/step - loss: 0.2881 - acc: 0.9000 - val_loss: 2.4166 - val_acc: 0.5284\n",
      "Epoch 24/100\n",
      "50000/50000 [==============================] - 5s 108us/step - loss: 0.2686 - acc: 0.9059 - val_loss: 2.5511 - val_acc: 0.5303\n",
      "Epoch 25/100\n",
      "50000/50000 [==============================] - 5s 106us/step - loss: 0.2283 - acc: 0.9195 - val_loss: 2.6019 - val_acc: 0.5348\n",
      "Epoch 26/100\n",
      "50000/50000 [==============================] - 5s 104us/step - loss: 0.2490 - acc: 0.9128 - val_loss: 2.7536 - val_acc: 0.5315\n",
      "Epoch 27/100\n",
      "50000/50000 [==============================] - 5s 100us/step - loss: 0.2224 - acc: 0.9217 - val_loss: 2.7522 - val_acc: 0.5291\n",
      "Epoch 28/100\n",
      "50000/50000 [==============================] - 5s 100us/step - loss: 0.2037 - acc: 0.9305 - val_loss: 2.7831 - val_acc: 0.5268\n",
      "Epoch 29/100\n",
      "50000/50000 [==============================] - 5s 99us/step - loss: 0.2011 - acc: 0.9299 - val_loss: 2.8515 - val_acc: 0.5293\n",
      "Epoch 30/100\n",
      "50000/50000 [==============================] - 5s 102us/step - loss: 0.2033 - acc: 0.9302 - val_loss: 2.9393 - val_acc: 0.5192\n",
      "Epoch 31/100\n",
      "50000/50000 [==============================] - 5s 109us/step - loss: 0.1915 - acc: 0.9348 - val_loss: 3.0786 - val_acc: 0.5295\n",
      "Epoch 32/100\n",
      "50000/50000 [==============================] - 5s 104us/step - loss: 0.1692 - acc: 0.9424 - val_loss: 3.0569 - val_acc: 0.5255\n",
      "Epoch 33/100\n",
      "50000/50000 [==============================] - 5s 109us/step - loss: 0.1663 - acc: 0.9426 - val_loss: 3.1293 - val_acc: 0.5322\n",
      "Epoch 34/100\n",
      "50000/50000 [==============================] - 7s 147us/step - loss: 0.1831 - acc: 0.9378 - val_loss: 3.0505 - val_acc: 0.5229\n",
      "Epoch 35/100\n",
      "50000/50000 [==============================] - 5s 109us/step - loss: 0.1517 - acc: 0.9481 - val_loss: 3.1959 - val_acc: 0.5302\n",
      "Epoch 36/100\n",
      "50000/50000 [==============================] - 6s 113us/step - loss: 0.1529 - acc: 0.9479 - val_loss: 3.1989 - val_acc: 0.5247\n",
      "Epoch 37/100\n",
      "50000/50000 [==============================] - 5s 110us/step - loss: 0.1589 - acc: 0.9459 - val_loss: 3.2554 - val_acc: 0.5299\n",
      "Epoch 38/100\n",
      "50000/50000 [==============================] - 5s 108us/step - loss: 0.1541 - acc: 0.9483 - val_loss: 3.2451 - val_acc: 0.5278\n",
      "Epoch 39/100\n",
      "50000/50000 [==============================] - 5s 107us/step - loss: 0.1360 - acc: 0.9544 - val_loss: 3.3539 - val_acc: 0.5338\n",
      "Epoch 40/100\n",
      "50000/50000 [==============================] - 5s 107us/step - loss: 0.1379 - acc: 0.9537 - val_loss: 3.3162 - val_acc: 0.5233\n",
      "Epoch 41/100\n",
      "50000/50000 [==============================] - 5s 101us/step - loss: 0.1515 - acc: 0.9486 - val_loss: 3.2722 - val_acc: 0.5333\n",
      "Epoch 42/100\n",
      "50000/50000 [==============================] - 5s 104us/step - loss: 0.1265 - acc: 0.9575 - val_loss: 3.3570 - val_acc: 0.5272\n",
      "Epoch 43/100\n",
      "50000/50000 [==============================] - 5s 100us/step - loss: 0.1317 - acc: 0.9545 - val_loss: 3.4092 - val_acc: 0.5308\n",
      "Epoch 44/100\n",
      "50000/50000 [==============================] - 5s 100us/step - loss: 0.1363 - acc: 0.9538 - val_loss: 3.3877 - val_acc: 0.5320\n",
      "Epoch 45/100\n",
      "50000/50000 [==============================] - 5s 100us/step - loss: 0.1192 - acc: 0.9590 - val_loss: 3.4562 - val_acc: 0.5323\n",
      "Epoch 46/100\n",
      "50000/50000 [==============================] - 5s 100us/step - loss: 0.1158 - acc: 0.9601 - val_loss: 3.4374 - val_acc: 0.5301\n",
      "Epoch 47/100\n",
      "50000/50000 [==============================] - 5s 100us/step - loss: 0.1368 - acc: 0.9546 - val_loss: 3.3919 - val_acc: 0.5319\n",
      "Epoch 48/100\n",
      "50000/50000 [==============================] - 5s 100us/step - loss: 0.1181 - acc: 0.9606 - val_loss: 3.4815 - val_acc: 0.5201\n",
      "Epoch 49/100\n",
      "50000/50000 [==============================] - 5s 98us/step - loss: 0.1122 - acc: 0.9620 - val_loss: 3.5198 - val_acc: 0.5336\n",
      "Epoch 50/100\n",
      "50000/50000 [==============================] - 5s 102us/step - loss: 0.1294 - acc: 0.9570 - val_loss: 3.5221 - val_acc: 0.5309\n",
      "Epoch 51/100\n",
      "50000/50000 [==============================] - 5s 102us/step - loss: 0.1218 - acc: 0.9604 - val_loss: 3.5927 - val_acc: 0.5255\n",
      "Epoch 52/100\n",
      "50000/50000 [==============================] - 6s 125us/step - loss: 0.1138 - acc: 0.9622 - val_loss: 3.5910 - val_acc: 0.5313\n",
      "Epoch 53/100\n",
      "50000/50000 [==============================] - 7s 141us/step - loss: 0.1041 - acc: 0.9647 - val_loss: 3.5329 - val_acc: 0.5248\n",
      "Epoch 54/100\n",
      "50000/50000 [==============================] - 8s 163us/step - loss: 0.1040 - acc: 0.9652 - val_loss: 3.6972 - val_acc: 0.5261\n",
      "Epoch 55/100\n",
      "50000/50000 [==============================] - 6s 113us/step - loss: 0.1037 - acc: 0.9663 - val_loss: 3.5919 - val_acc: 0.5256\n",
      "Epoch 56/100\n",
      "50000/50000 [==============================] - 5s 104us/step - loss: 0.1197 - acc: 0.9601 - val_loss: 3.5736 - val_acc: 0.5289\n",
      "Epoch 57/100\n",
      "50000/50000 [==============================] - 6s 121us/step - loss: 0.0836 - acc: 0.9722 - val_loss: 3.6398 - val_acc: 0.5298\n",
      "Epoch 58/100\n",
      "50000/50000 [==============================] - 6s 115us/step - loss: 0.0968 - acc: 0.9683 - val_loss: 3.6795 - val_acc: 0.5264\n",
      "Epoch 59/100\n"
     ]
    },
    {
     "name": "stdout",
     "output_type": "stream",
     "text": [
      "50000/50000 [==============================] - 5s 99us/step - loss: 0.1067 - acc: 0.9653 - val_loss: 3.6223 - val_acc: 0.5274\n",
      "Epoch 60/100\n",
      "50000/50000 [==============================] - 5s 95us/step - loss: 0.0959 - acc: 0.9679 - val_loss: 3.6792 - val_acc: 0.5282\n",
      "Epoch 61/100\n",
      "50000/50000 [==============================] - 5s 96us/step - loss: 0.0961 - acc: 0.9688 - val_loss: 3.7311 - val_acc: 0.5265\n",
      "Epoch 62/100\n",
      "50000/50000 [==============================] - 5s 97us/step - loss: 0.0896 - acc: 0.9700 - val_loss: 3.6941 - val_acc: 0.5269\n",
      "Epoch 63/100\n",
      "50000/50000 [==============================] - 5s 97us/step - loss: 0.0933 - acc: 0.9695 - val_loss: 3.7535 - val_acc: 0.5301\n",
      "Epoch 64/100\n",
      "50000/50000 [==============================] - 5s 97us/step - loss: 0.0943 - acc: 0.9687 - val_loss: 3.7990 - val_acc: 0.5206\n",
      "Epoch 65/100\n",
      "50000/50000 [==============================] - 5s 98us/step - loss: 0.1083 - acc: 0.9652 - val_loss: 3.6704 - val_acc: 0.5290\n",
      "Epoch 66/100\n",
      "50000/50000 [==============================] - 5s 103us/step - loss: 0.0733 - acc: 0.9764 - val_loss: 3.6937 - val_acc: 0.5312\n",
      "Epoch 67/100\n",
      "50000/50000 [==============================] - 5s 98us/step - loss: 0.0779 - acc: 0.9736 - val_loss: 3.8151 - val_acc: 0.5329\n",
      "Epoch 68/100\n",
      "50000/50000 [==============================] - 5s 96us/step - loss: 0.1049 - acc: 0.9657 - val_loss: 3.7489 - val_acc: 0.5215\n",
      "Epoch 69/100\n",
      "50000/50000 [==============================] - 5s 97us/step - loss: 0.0916 - acc: 0.9705 - val_loss: 3.7292 - val_acc: 0.5366\n",
      "Epoch 70/100\n",
      "50000/50000 [==============================] - 5s 96us/step - loss: 0.0879 - acc: 0.9712 - val_loss: 3.7362 - val_acc: 0.5351\n",
      "Epoch 71/100\n",
      "50000/50000 [==============================] - 5s 103us/step - loss: 0.0666 - acc: 0.9786 - val_loss: 3.9232 - val_acc: 0.5247\n",
      "Epoch 72/100\n",
      "50000/50000 [==============================] - 5s 98us/step - loss: 0.0875 - acc: 0.9719 - val_loss: 3.8144 - val_acc: 0.5293\n",
      "Epoch 73/100\n",
      "50000/50000 [==============================] - 5s 96us/step - loss: 0.0896 - acc: 0.9708 - val_loss: 3.7837 - val_acc: 0.5268\n",
      "Epoch 74/100\n",
      "50000/50000 [==============================] - 5s 102us/step - loss: 0.0711 - acc: 0.9769 - val_loss: 3.8975 - val_acc: 0.5325\n",
      "Epoch 75/100\n",
      "50000/50000 [==============================] - 5s 103us/step - loss: 0.0879 - acc: 0.9709 - val_loss: 3.8833 - val_acc: 0.5272\n",
      "Epoch 76/100\n",
      "50000/50000 [==============================] - 5s 104us/step - loss: 0.0752 - acc: 0.9766 - val_loss: 3.9014 - val_acc: 0.5301\n",
      "Epoch 77/100\n",
      "50000/50000 [==============================] - 5s 98us/step - loss: 0.0742 - acc: 0.9754 - val_loss: 3.8559 - val_acc: 0.5344\n",
      "Epoch 78/100\n",
      "50000/50000 [==============================] - 5s 100us/step - loss: 0.0766 - acc: 0.9763 - val_loss: 3.8533 - val_acc: 0.5298\n",
      "Epoch 79/100\n",
      "50000/50000 [==============================] - 6s 111us/step - loss: 0.0896 - acc: 0.9713 - val_loss: 3.7804 - val_acc: 0.5324\n",
      "Epoch 80/100\n",
      "50000/50000 [==============================] - 5s 102us/step - loss: 0.0748 - acc: 0.9758 - val_loss: 3.7525 - val_acc: 0.5339\n",
      "Epoch 81/100\n",
      "50000/50000 [==============================] - 6s 114us/step - loss: 0.0496 - acc: 0.9839 - val_loss: 3.8866 - val_acc: 0.5348\n",
      "Epoch 82/100\n",
      "50000/50000 [==============================] - 6s 123us/step - loss: 0.0713 - acc: 0.9771 - val_loss: 3.8280 - val_acc: 0.5298\n",
      "Epoch 83/100\n",
      "50000/50000 [==============================] - 7s 131us/step - loss: 0.0853 - acc: 0.9718 - val_loss: 3.8473 - val_acc: 0.5286\n",
      "Epoch 84/100\n",
      "50000/50000 [==============================] - 5s 107us/step - loss: 0.0744 - acc: 0.9761 - val_loss: 3.8440 - val_acc: 0.5291\n",
      "Epoch 85/100\n",
      "50000/50000 [==============================] - 6s 123us/step - loss: 0.0793 - acc: 0.9731 - val_loss: 3.9316 - val_acc: 0.5352\n",
      "Epoch 86/100\n",
      "50000/50000 [==============================] - 6s 113us/step - loss: 0.0722 - acc: 0.9768 - val_loss: 3.8271 - val_acc: 0.5284\n",
      "Epoch 87/100\n",
      "50000/50000 [==============================] - 7s 133us/step - loss: 0.0639 - acc: 0.9789 - val_loss: 3.9321 - val_acc: 0.5293\n",
      "Epoch 88/100\n",
      "50000/50000 [==============================] - 6s 129us/step - loss: 0.0696 - acc: 0.9773 - val_loss: 3.8994 - val_acc: 0.5265\n",
      "Epoch 89/100\n",
      "50000/50000 [==============================] - 7s 132us/step - loss: 0.0614 - acc: 0.9798 - val_loss: 4.0585 - val_acc: 0.5308\n",
      "Epoch 90/100\n",
      "50000/50000 [==============================] - 6s 113us/step - loss: 0.0743 - acc: 0.9761 - val_loss: 3.8629 - val_acc: 0.5316\n",
      "Epoch 91/100\n",
      "50000/50000 [==============================] - 6s 112us/step - loss: 0.0748 - acc: 0.9762 - val_loss: 3.9013 - val_acc: 0.5344\n",
      "Epoch 92/100\n",
      "50000/50000 [==============================] - 5s 109us/step - loss: 0.0567 - acc: 0.9819 - val_loss: 3.9803 - val_acc: 0.5263\n",
      "Epoch 93/100\n",
      "50000/50000 [==============================] - 5s 108us/step - loss: 0.0934 - acc: 0.9700 - val_loss: 3.8113 - val_acc: 0.5337\n",
      "Epoch 94/100\n",
      "50000/50000 [==============================] - 5s 104us/step - loss: 0.0666 - acc: 0.9783 - val_loss: 4.0162 - val_acc: 0.5288\n",
      "Epoch 95/100\n",
      "50000/50000 [==============================] - 5s 107us/step - loss: 0.0718 - acc: 0.9766 - val_loss: 3.8798 - val_acc: 0.5344\n",
      "Epoch 96/100\n",
      "50000/50000 [==============================] - 5s 99us/step - loss: 0.0516 - acc: 0.9828 - val_loss: 3.9310 - val_acc: 0.5355\n",
      "Epoch 97/100\n",
      "50000/50000 [==============================] - 5s 99us/step - loss: 0.0463 - acc: 0.9851 - val_loss: 4.1149 - val_acc: 0.5215\n",
      "Epoch 98/100\n",
      "50000/50000 [==============================] - 5s 97us/step - loss: 0.0761 - acc: 0.9760 - val_loss: 3.9636 - val_acc: 0.5221\n",
      "Epoch 99/100\n",
      "50000/50000 [==============================] - 5s 105us/step - loss: 0.0848 - acc: 0.9727 - val_loss: 3.8876 - val_acc: 0.5353\n",
      "Epoch 100/100\n",
      "50000/50000 [==============================] - 5s 102us/step - loss: 0.0553 - acc: 0.9814 - val_loss: 3.9903 - val_acc: 0.5318\n"
     ]
    },
    {
     "data": {
      "text/plain": [
       "<keras.callbacks.History at 0x1dfcdef2898>"
      ]
     },
     "execution_count": 39,
     "metadata": {},
     "output_type": "execute_result"
    }
   ],
   "source": [
    "model.fit(x_train, y_train, \n",
    "          epochs=EPOCHS, \n",
    "          batch_size=BATCH_SIZE, \n",
    "          validation_data=(x_test, y_test), \n",
    "          shuffle=True)"
   ]
  },
  {
   "cell_type": "code",
   "execution_count": 40,
   "metadata": {},
   "outputs": [
    {
     "data": {
      "image/png": "[encoded data removed]",
      "text/plain": [
       "<Figure size 432x288 with 1 Axes>"
      ]
     },
     "metadata": {
      "needs_background": "light"
     },
     "output_type": "display_data"
    },
    {
     "data": {
      "image/png": "[encoded data removed]",
      "text/plain": [
       "<Figure size 432x288 with 1 Axes>"
      ]
     },
     "metadata": {
      "needs_background": "light"
     },
     "output_type": "display_data"
    }
   ],
   "source": [
    "import matplotlib.pyplot as plt\n",
    "\n",
    "\n",
    "train_loss = model.history.history[\"loss\"]\n",
    "valid_loss = model.history.history[\"val_loss\"]\n",
    "\n",
    "train_acc = model.history.history[\"acc\"]\n",
    "valid_acc = model.history.history[\"val_acc\"]\n",
    "\n",
    "plt.plot(range(len(train_loss)), train_loss, label=\"train loss\")\n",
    "plt.plot(range(len(valid_loss)), valid_loss, label=\"valid loss\")\n",
    "plt.legend()\n",
    "plt.title(\"Loss\")\n",
    "plt.show()\n",
    "\n",
    "plt.plot(range(len(train_acc)), train_acc, label=\"train accuracy\")\n",
    "plt.plot(range(len(valid_acc)), valid_acc, label=\"valid accuracy\")\n",
    "plt.legend()\n",
    "plt.title(\"Accuracy\")\n",
    "plt.show()"
   ]
  },
  {
   "cell_type": "code",
   "execution_count": null,
   "metadata": {},
   "outputs": [],
   "source": []
  }
 ],
 "metadata": {
  "kernelspec": {
   "display_name": "Python 3",
   "language": "python",
   "name": "python3"
  },
  "language_info": {
   "codemirror_mode": {
    "name": "ipython",
    "version": 3
   },
   "file_extension": ".py",
   "mimetype": "text/x-python",
   "name": "python",
   "nbconvert_exporter": "python",
   "pygments_lexer": "ipython3",
   "version": "3.6.8"
  }
 },
 "nbformat": 4,
 "nbformat_minor": 2
}
