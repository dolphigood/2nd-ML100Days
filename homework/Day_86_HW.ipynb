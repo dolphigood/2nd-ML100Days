{
 "cells": [
  {
   "cell_type": "markdown",
   "metadata": {},
   "source": [
    "## Work\n",
    "1. 試比較 save_best_only 與否的差異\n",
    "2. 請僅存入將 save_weights_only 設定為 True, 並嘗試 reset ipynb 並將模型與權重重新建回並預測 x_test"
   ]
  },
  {
   "cell_type": "code",
   "execution_count": 1,
   "metadata": {},
   "outputs": [
    {
     "name": "stderr",
     "output_type": "stream",
     "text": [
      "Using TensorFlow backend.\n"
     ]
    }
   ],
   "source": [
    "import os\n",
    "import keras\n",
    "\n",
    "# Disable GPU\n",
    "os.environ[\"CUDA_VISIBLE_DEVICES\"] = \"\""
   ]
  },
  {
   "cell_type": "code",
   "execution_count": 2,
   "metadata": {},
   "outputs": [],
   "source": [
    "train, test = keras.datasets.cifar10.load_data()"
   ]
  },
  {
   "cell_type": "code",
   "execution_count": 3,
   "metadata": {},
   "outputs": [],
   "source": [
    "## 資料前處理\n",
    "def preproc_x(x, flatten=True):\n",
    "    x = x / 255.\n",
    "    if flatten:\n",
    "        x = x.reshape((len(x), -1))\n",
    "    return x\n",
    "\n",
    "def preproc_y(y, num_classes=10):\n",
    "    if y.shape[-1] == 1:\n",
    "        y = keras.utils.to_categorical(y, num_classes)\n",
    "    return y    "
   ]
  },
  {
   "cell_type": "code",
   "execution_count": 4,
   "metadata": {},
   "outputs": [],
   "source": [
    "x_train, y_train = train\n",
    "x_test, y_test = test\n",
    "\n",
    "# Preproc the inputs\n",
    "x_train = preproc_x(x_train)\n",
    "x_test = preproc_x(x_test)\n",
    "\n",
    "# Preprc the outputs\n",
    "y_train = preproc_y(y_train)\n",
    "y_test = preproc_y(y_test)"
   ]
  },
  {
   "cell_type": "code",
   "execution_count": 5,
   "metadata": {},
   "outputs": [],
   "source": [
    "from keras.layers import BatchNormalization\n",
    "\n",
    "def build_mlp(input_shape, output_units=10, num_neurons=[512, 256, 128]):\n",
    "    input_layer = keras.layers.Input(input_shape)\n",
    "    \n",
    "    for i, n_units in enumerate(num_neurons):\n",
    "        if i == 0:\n",
    "            x = keras.layers.Dense(units=n_units, \n",
    "                                   activation=\"relu\", \n",
    "                                   name=\"hidden_layer\"+str(i+1))(input_layer)\n",
    "            x = BatchNormalization()(x)\n",
    "        else:\n",
    "            x = keras.layers.Dense(units=n_units, \n",
    "                                   activation=\"relu\", \n",
    "                                   name=\"hidden_layer\"+str(i+1))(x)\n",
    "            x = BatchNormalization()(x)\n",
    "    \n",
    "    out = keras.layers.Dense(units=output_units, activation=\"softmax\", name=\"output\")(x)\n",
    "    \n",
    "    model = keras.models.Model(inputs=[input_layer], outputs=[out])\n",
    "    return model"
   ]
  },
  {
   "cell_type": "code",
   "execution_count": 6,
   "metadata": {},
   "outputs": [],
   "source": [
    "## 超參數設定\n",
    "LEARNING_RATE = 1e-3\n",
    "EPOCHS = 50\n",
    "BATCH_SIZE = 1024\n",
    "MOMENTUM = 0.95"
   ]
  },
  {
   "cell_type": "code",
   "execution_count": 7,
   "metadata": {},
   "outputs": [
    {
     "name": "stdout",
     "output_type": "stream",
     "text": [
      "_________________________________________________________________\n",
      "Layer (type)                 Output Shape              Param #   \n",
      "=================================================================\n",
      "input_1 (InputLayer)         (None, 3072)              0         \n",
      "_________________________________________________________________\n",
      "hidden_layer1 (Dense)        (None, 512)               1573376   \n",
      "_________________________________________________________________\n",
      "batch_normalization_1 (Batch (None, 512)               2048      \n",
      "_________________________________________________________________\n",
      "hidden_layer2 (Dense)        (None, 256)               131328    \n",
      "_________________________________________________________________\n",
      "batch_normalization_2 (Batch (None, 256)               1024      \n",
      "_________________________________________________________________\n",
      "hidden_layer3 (Dense)        (None, 128)               32896     \n",
      "_________________________________________________________________\n",
      "batch_normalization_3 (Batch (None, 128)               512       \n",
      "_________________________________________________________________\n",
      "output (Dense)               (None, 10)                1290      \n",
      "=================================================================\n",
      "Total params: 1,742,474\n",
      "Trainable params: 1,740,682\n",
      "Non-trainable params: 1,792\n",
      "_________________________________________________________________\n",
      "Train on 50000 samples, validate on 10000 samples\n",
      "Epoch 1/50\n",
      "50000/50000 [==============================] - 7s 142us/step - loss: 2.2126 - acc: 0.2749 - val_loss: 2.2458 - val_acc: 0.3151\n",
      "Epoch 2/50\n",
      "50000/50000 [==============================] - 3s 67us/step - loss: 1.7449 - acc: 0.3922 - val_loss: 1.8201 - val_acc: 0.3788\n",
      "Epoch 3/50\n",
      "50000/50000 [==============================] - 3s 66us/step - loss: 1.6220 - acc: 0.4350 - val_loss: 1.6976 - val_acc: 0.4061\n",
      "Epoch 4/50\n",
      "50000/50000 [==============================] - 4s 71us/step - loss: 1.5516 - acc: 0.4578 - val_loss: 1.6388 - val_acc: 0.4254\n",
      "Epoch 5/50\n",
      "50000/50000 [==============================] - 4s 76us/step - loss: 1.4988 - acc: 0.4791 - val_loss: 1.5983 - val_acc: 0.4352\n",
      "Epoch 6/50\n",
      "50000/50000 [==============================] - 3s 69us/step - loss: 1.4545 - acc: 0.4936 - val_loss: 1.5728 - val_acc: 0.4474\n",
      "Epoch 7/50\n",
      "50000/50000 [==============================] - 3s 67us/step - loss: 1.4150 - acc: 0.5079 - val_loss: 1.5599 - val_acc: 0.4468\n",
      "Epoch 8/50\n",
      "50000/50000 [==============================] - 3s 70us/step - loss: 1.3824 - acc: 0.5210 - val_loss: 1.5288 - val_acc: 0.4579\n",
      "Epoch 9/50\n",
      "50000/50000 [==============================] - 4s 74us/step - loss: 1.3491 - acc: 0.5314 - val_loss: 1.5426 - val_acc: 0.4559\n",
      "Epoch 10/50\n",
      "50000/50000 [==============================] - 4s 88us/step - loss: 1.3213 - acc: 0.5434 - val_loss: 1.5039 - val_acc: 0.4664\n",
      "Epoch 11/50\n",
      "50000/50000 [==============================] - 3s 66us/step - loss: 1.2909 - acc: 0.5554 - val_loss: 1.4907 - val_acc: 0.4720\n",
      "Epoch 12/50\n",
      "50000/50000 [==============================] - 4s 74us/step - loss: 1.2645 - acc: 0.5654 - val_loss: 1.4833 - val_acc: 0.4742\n",
      "Epoch 13/50\n",
      "50000/50000 [==============================] - 3s 69us/step - loss: 1.2396 - acc: 0.5742 - val_loss: 1.4794 - val_acc: 0.4771\n",
      "Epoch 14/50\n",
      "50000/50000 [==============================] - 3s 68us/step - loss: 1.2146 - acc: 0.5833 - val_loss: 1.4835 - val_acc: 0.4732\n",
      "Epoch 15/50\n",
      "50000/50000 [==============================] - 3s 68us/step - loss: 1.1917 - acc: 0.5899 - val_loss: 1.4683 - val_acc: 0.4802\n",
      "Epoch 16/50\n",
      "50000/50000 [==============================] - 4s 74us/step - loss: 1.1672 - acc: 0.6003 - val_loss: 1.4649 - val_acc: 0.4832\n",
      "Epoch 17/50\n",
      "50000/50000 [==============================] - 4s 82us/step - loss: 1.1448 - acc: 0.6088 - val_loss: 1.4596 - val_acc: 0.4908\n",
      "Epoch 18/50\n",
      "50000/50000 [==============================] - 4s 78us/step - loss: 1.1237 - acc: 0.6169 - val_loss: 1.4630 - val_acc: 0.4836\n",
      "Epoch 19/50\n",
      "50000/50000 [==============================] - 3s 69us/step - loss: 1.1007 - acc: 0.6236 - val_loss: 1.4578 - val_acc: 0.4892\n",
      "Epoch 20/50\n",
      "50000/50000 [==============================] - 4s 77us/step - loss: 1.0790 - acc: 0.6329 - val_loss: 1.4593 - val_acc: 0.4837\n",
      "Epoch 21/50\n",
      "50000/50000 [==============================] - 4s 86us/step - loss: 1.0609 - acc: 0.6401 - val_loss: 1.4526 - val_acc: 0.4910\n",
      "Epoch 22/50\n",
      "50000/50000 [==============================] - 4s 84us/step - loss: 1.0389 - acc: 0.6481 - val_loss: 1.4621 - val_acc: 0.4907\n",
      "Epoch 23/50\n",
      "50000/50000 [==============================] - 3s 65us/step - loss: 1.0181 - acc: 0.6551 - val_loss: 1.4708 - val_acc: 0.4867\n",
      "Epoch 24/50\n",
      "50000/50000 [==============================] - 3s 63us/step - loss: 0.9968 - acc: 0.6647 - val_loss: 1.4543 - val_acc: 0.4944\n",
      "Epoch 25/50\n",
      "50000/50000 [==============================] - 3s 66us/step - loss: 0.9741 - acc: 0.6732 - val_loss: 1.4693 - val_acc: 0.4891\n",
      "Epoch 26/50\n",
      "50000/50000 [==============================] - 3s 65us/step - loss: 0.9545 - acc: 0.6804 - val_loss: 1.4630 - val_acc: 0.4907\n",
      "Epoch 27/50\n",
      "50000/50000 [==============================] - 5s 101us/step - loss: 0.9368 - acc: 0.6880 - val_loss: 1.4684 - val_acc: 0.4869\n",
      "Epoch 28/50\n",
      "50000/50000 [==============================] - 5s 91us/step - loss: 0.9158 - acc: 0.6982 - val_loss: 1.4705 - val_acc: 0.4907\n",
      "Epoch 29/50\n",
      "50000/50000 [==============================] - 5s 99us/step - loss: 0.8953 - acc: 0.7042 - val_loss: 1.4784 - val_acc: 0.4925\n",
      "Epoch 30/50\n",
      "50000/50000 [==============================] - 4s 85us/step - loss: 0.8761 - acc: 0.7112 - val_loss: 1.4688 - val_acc: 0.4945\n",
      "Epoch 31/50\n",
      "50000/50000 [==============================] - 4s 72us/step - loss: 0.8563 - acc: 0.7176 - val_loss: 1.4867 - val_acc: 0.4947\n",
      "Epoch 32/50\n",
      "50000/50000 [==============================] - 3s 70us/step - loss: 0.8377 - acc: 0.7253 - val_loss: 1.5020 - val_acc: 0.4865\n",
      "Epoch 33/50\n",
      "50000/50000 [==============================] - 4s 70us/step - loss: 0.8167 - acc: 0.7344 - val_loss: 1.5069 - val_acc: 0.4949\n",
      "Epoch 34/50\n",
      "50000/50000 [==============================] - 3s 66us/step - loss: 0.7977 - acc: 0.7426 - val_loss: 1.5055 - val_acc: 0.4923\n",
      "Epoch 35/50\n",
      "50000/50000 [==============================] - 3s 67us/step - loss: 0.7801 - acc: 0.7480 - val_loss: 1.5079 - val_acc: 0.4940\n",
      "Epoch 36/50\n",
      "50000/50000 [==============================] - 3s 64us/step - loss: 0.7610 - acc: 0.7567 - val_loss: 1.5172 - val_acc: 0.4932\n",
      "Epoch 37/50\n",
      "50000/50000 [==============================] - 3s 64us/step - loss: 0.7415 - acc: 0.7640 - val_loss: 1.5351 - val_acc: 0.4890\n",
      "Epoch 38/50\n",
      "50000/50000 [==============================] - 3s 67us/step - loss: 0.7242 - acc: 0.7714 - val_loss: 1.5392 - val_acc: 0.4924\n",
      "Epoch 39/50\n",
      "50000/50000 [==============================] - 3s 65us/step - loss: 0.7046 - acc: 0.7799 - val_loss: 1.5537 - val_acc: 0.4930\n",
      "Epoch 40/50\n",
      "50000/50000 [==============================] - 3s 65us/step - loss: 0.6847 - acc: 0.7856 - val_loss: 1.5533 - val_acc: 0.4918\n",
      "Epoch 41/50\n",
      "50000/50000 [==============================] - 3s 65us/step - loss: 0.6677 - acc: 0.7924 - val_loss: 1.5688 - val_acc: 0.4885\n",
      "Epoch 42/50\n",
      "50000/50000 [==============================] - 3s 64us/step - loss: 0.6505 - acc: 0.7985 - val_loss: 1.5763 - val_acc: 0.4913\n",
      "Epoch 43/50\n",
      "50000/50000 [==============================] - 3s 65us/step - loss: 0.6330 - acc: 0.8062 - val_loss: 1.5900 - val_acc: 0.4935\n",
      "Epoch 44/50\n",
      "50000/50000 [==============================] - 3s 67us/step - loss: 0.6128 - acc: 0.8154 - val_loss: 1.5931 - val_acc: 0.4891\n",
      "Epoch 45/50\n",
      "50000/50000 [==============================] - 3s 65us/step - loss: 0.5957 - acc: 0.8210 - val_loss: 1.5992 - val_acc: 0.4878\n",
      "Epoch 46/50\n",
      "50000/50000 [==============================] - 3s 68us/step - loss: 0.5794 - acc: 0.8296 - val_loss: 1.6102 - val_acc: 0.4921\n",
      "Epoch 47/50\n",
      "50000/50000 [==============================] - 3s 65us/step - loss: 0.5616 - acc: 0.8351 - val_loss: 1.6236 - val_acc: 0.4912\n",
      "Epoch 48/50\n",
      "50000/50000 [==============================] - 3s 66us/step - loss: 0.5430 - acc: 0.8436 - val_loss: 1.6288 - val_acc: 0.4919\n",
      "Epoch 49/50\n",
      "50000/50000 [==============================] - 4s 76us/step - loss: 0.5283 - acc: 0.8482 - val_loss: 1.6565 - val_acc: 0.4850\n"
     ]
    },
    {
     "name": "stdout",
     "output_type": "stream",
     "text": [
      "Epoch 50/50\n",
      "50000/50000 [==============================] - 4s 90us/step - loss: 0.5099 - acc: 0.8542 - val_loss: 1.6794 - val_acc: 0.4883\n",
      "10000/10000 [==============================] - 1s 144us/step\n"
     ]
    }
   ],
   "source": [
    "from keras.callbacks import ModelCheckpoint\n",
    "\n",
    "model_ckpt = ModelCheckpoint(filepath=\"./tmp.h5\", \n",
    "                             monitor=\"val_loss\", \n",
    "                             save_best_only=False)\n",
    "\n",
    "model = build_mlp(input_shape=x_train.shape[1:])\n",
    "model.summary()\n",
    "optimizer = keras.optimizers.SGD(lr=LEARNING_RATE, nesterov=True, momentum=MOMENTUM)\n",
    "model.compile(loss=\"categorical_crossentropy\", metrics=[\"accuracy\"], optimizer=optimizer)\n",
    "\n",
    "model.fit(x_train, y_train, \n",
    "          epochs=EPOCHS, \n",
    "          batch_size=BATCH_SIZE, \n",
    "          validation_data=(x_test, y_test), \n",
    "          shuffle=True,\n",
    "          callbacks=[model_ckpt]\n",
    "         )\n",
    "\n",
    "# Collect results\n",
    "train_loss = model.history.history[\"loss\"]\n",
    "valid_loss = model.history.history[\"val_loss\"]\n",
    "train_acc = model.history.history[\"acc\"]\n",
    "valid_acc = model.history.history[\"val_acc\"]\n",
    "\n",
    "\n",
    "# Load back\n",
    "model = keras.models.load_model(\"./tmp.h5\")\n",
    "loss_loadback, acc_loadback = model.evaluate(x_test, y_test)"
   ]
  },
  {
   "cell_type": "code",
   "execution_count": 8,
   "metadata": {
    "scrolled": true
   },
   "outputs": [
    {
     "data": {
      "image/png": "[encoded data removed]",
      "text/plain": [
       "<Figure size 432x288 with 1 Axes>"
      ]
     },
     "metadata": {
      "needs_background": "light"
     },
     "output_type": "display_data"
    },
    {
     "data": {
      "image/png": "[encoded data removed]",
      "text/plain": [
       "<Figure size 432x288 with 1 Axes>"
      ]
     },
     "metadata": {
      "needs_background": "light"
     },
     "output_type": "display_data"
    }
   ],
   "source": [
    "import matplotlib.pyplot as plt\n",
    "%matplotlib inline\n",
    "\n",
    "plt.plot(range(len(train_loss)), train_loss, label=\"train loss\")\n",
    "plt.plot(range(len(valid_loss)), valid_loss, label=\"valid loss\")\n",
    "plt.hlines(y=loss_loadback, xmin=0, xmax=len(train_loss), colors='r', linestyles='--')\n",
    "plt.legend()\n",
    "plt.title(\"Loss\")\n",
    "plt.show()\n",
    "\n",
    "plt.plot(range(len(train_acc)), train_acc, label=\"train accuracy\")\n",
    "plt.plot(range(len(valid_acc)), valid_acc, label=\"valid accuracy\")\n",
    "plt.hlines(y=acc_loadback, xmin=0, xmax=len(train_loss), colors='r', linestyles='--')\n",
    "plt.legend()\n",
    "plt.title(\"Accuracy\")\n",
    "plt.show()"
   ]
  },
  {
   "cell_type": "code",
   "execution_count": 9,
   "metadata": {},
   "outputs": [
    {
     "name": "stdout",
     "output_type": "stream",
     "text": [
      "_________________________________________________________________\n",
      "Layer (type)                 Output Shape              Param #   \n",
      "=================================================================\n",
      "input_2 (InputLayer)         (None, 3072)              0         \n",
      "_________________________________________________________________\n",
      "hidden_layer1 (Dense)        (None, 512)               1573376   \n",
      "_________________________________________________________________\n",
      "batch_normalization_4 (Batch (None, 512)               2048      \n",
      "_________________________________________________________________\n",
      "hidden_layer2 (Dense)        (None, 256)               131328    \n",
      "_________________________________________________________________\n",
      "batch_normalization_5 (Batch (None, 256)               1024      \n",
      "_________________________________________________________________\n",
      "hidden_layer3 (Dense)        (None, 128)               32896     \n",
      "_________________________________________________________________\n",
      "batch_normalization_6 (Batch (None, 128)               512       \n",
      "_________________________________________________________________\n",
      "output (Dense)               (None, 10)                1290      \n",
      "=================================================================\n",
      "Total params: 1,742,474\n",
      "Trainable params: 1,740,682\n",
      "Non-trainable params: 1,792\n",
      "_________________________________________________________________\n",
      "Train on 50000 samples, validate on 10000 samples\n",
      "Epoch 1/50\n",
      "50000/50000 [==============================] - 5s 103us/step - loss: 2.2132 - acc: 0.2664 - val_loss: 2.1264 - val_acc: 0.3222\n",
      "Epoch 2/50\n",
      "50000/50000 [==============================] - 3s 68us/step - loss: 1.7446 - acc: 0.3931 - val_loss: 1.8530 - val_acc: 0.3752\n",
      "Epoch 3/50\n",
      "50000/50000 [==============================] - 3s 67us/step - loss: 1.6203 - acc: 0.4364 - val_loss: 1.6965 - val_acc: 0.4114\n",
      "Epoch 4/50\n",
      "50000/50000 [==============================] - 3s 65us/step - loss: 1.5498 - acc: 0.4607 - val_loss: 1.6457 - val_acc: 0.4252\n",
      "Epoch 5/50\n",
      "50000/50000 [==============================] - 3s 65us/step - loss: 1.4939 - acc: 0.4796 - val_loss: 1.6165 - val_acc: 0.4327\n",
      "Epoch 6/50\n",
      "50000/50000 [==============================] - 3s 66us/step - loss: 1.4477 - acc: 0.4963 - val_loss: 1.5837 - val_acc: 0.4445\n",
      "Epoch 7/50\n",
      "50000/50000 [==============================] - 3s 66us/step - loss: 1.4093 - acc: 0.5103 - val_loss: 1.5477 - val_acc: 0.4563\n",
      "Epoch 8/50\n",
      "50000/50000 [==============================] - 3s 66us/step - loss: 1.3725 - acc: 0.5237 - val_loss: 1.5378 - val_acc: 0.4604\n",
      "Epoch 9/50\n",
      "50000/50000 [==============================] - 3s 67us/step - loss: 1.3406 - acc: 0.5356 - val_loss: 1.5132 - val_acc: 0.4651\n",
      "Epoch 10/50\n",
      "50000/50000 [==============================] - 3s 65us/step - loss: 1.3123 - acc: 0.5452 - val_loss: 1.4998 - val_acc: 0.4727\n",
      "Epoch 11/50\n",
      "50000/50000 [==============================] - 3s 65us/step - loss: 1.2818 - acc: 0.5579 - val_loss: 1.4953 - val_acc: 0.4741\n",
      "Epoch 12/50\n",
      "50000/50000 [==============================] - 4s 71us/step - loss: 1.2564 - acc: 0.5649 - val_loss: 1.4817 - val_acc: 0.4783\n",
      "Epoch 13/50\n",
      "50000/50000 [==============================] - 3s 69us/step - loss: 1.2308 - acc: 0.5757 - val_loss: 1.4983 - val_acc: 0.4732\n",
      "Epoch 14/50\n",
      "50000/50000 [==============================] - 3s 69us/step - loss: 1.2052 - acc: 0.5863 - val_loss: 1.4733 - val_acc: 0.4808\n",
      "Epoch 15/50\n",
      "50000/50000 [==============================] - 4s 72us/step - loss: 1.1818 - acc: 0.5942 - val_loss: 1.4728 - val_acc: 0.4845\n",
      "Epoch 16/50\n",
      "50000/50000 [==============================] - 4s 83us/step - loss: 1.1587 - acc: 0.6021 - val_loss: 1.4706 - val_acc: 0.4797\n",
      "Epoch 17/50\n",
      "50000/50000 [==============================] - 4s 74us/step - loss: 1.1347 - acc: 0.6124 - val_loss: 1.4716 - val_acc: 0.4886\n",
      "Epoch 18/50\n",
      "50000/50000 [==============================] - 3s 69us/step - loss: 1.1118 - acc: 0.6198 - val_loss: 1.4550 - val_acc: 0.4862\n",
      "Epoch 19/50\n",
      "50000/50000 [==============================] - 4s 70us/step - loss: 1.0897 - acc: 0.6288 - val_loss: 1.4802 - val_acc: 0.4842\n",
      "Epoch 20/50\n",
      "50000/50000 [==============================] - 4s 70us/step - loss: 1.0683 - acc: 0.6376 - val_loss: 1.4631 - val_acc: 0.4864\n",
      "Epoch 21/50\n",
      "50000/50000 [==============================] - 4s 71us/step - loss: 1.0466 - acc: 0.6462 - val_loss: 1.4602 - val_acc: 0.4900\n",
      "Epoch 22/50\n",
      "50000/50000 [==============================] - 4s 75us/step - loss: 1.0250 - acc: 0.6533 - val_loss: 1.4670 - val_acc: 0.4863\n",
      "Epoch 23/50\n",
      "50000/50000 [==============================] - 4s 78us/step - loss: 1.0047 - acc: 0.6608 - val_loss: 1.4733 - val_acc: 0.4876\n",
      "Epoch 24/50\n",
      "50000/50000 [==============================] - 3s 70us/step - loss: 0.9831 - acc: 0.6701 - val_loss: 1.4653 - val_acc: 0.4913\n",
      "Epoch 25/50\n",
      "50000/50000 [==============================] - 3s 67us/step - loss: 0.9630 - acc: 0.6756 - val_loss: 1.4696 - val_acc: 0.4940\n",
      "Epoch 26/50\n",
      "50000/50000 [==============================] - 3s 68us/step - loss: 0.9412 - acc: 0.6857 - val_loss: 1.4916 - val_acc: 0.4854\n",
      "Epoch 27/50\n",
      "50000/50000 [==============================] - 3s 65us/step - loss: 0.9229 - acc: 0.6934 - val_loss: 1.4814 - val_acc: 0.4923\n",
      "Epoch 28/50\n",
      "50000/50000 [==============================] - 3s 66us/step - loss: 0.9017 - acc: 0.7007 - val_loss: 1.4749 - val_acc: 0.4950\n",
      "Epoch 29/50\n",
      "50000/50000 [==============================] - 3s 67us/step - loss: 0.8812 - acc: 0.7098 - val_loss: 1.4820 - val_acc: 0.4975\n",
      "Epoch 30/50\n",
      "50000/50000 [==============================] - 3s 65us/step - loss: 0.8613 - acc: 0.7178 - val_loss: 1.4868 - val_acc: 0.4945\n",
      "Epoch 31/50\n",
      "50000/50000 [==============================] - 3s 67us/step - loss: 0.8416 - acc: 0.7242 - val_loss: 1.4925 - val_acc: 0.4972\n",
      "Epoch 32/50\n",
      "50000/50000 [==============================] - 3s 64us/step - loss: 0.8232 - acc: 0.7313 - val_loss: 1.5013 - val_acc: 0.4943\n",
      "Epoch 33/50\n",
      "50000/50000 [==============================] - 3s 65us/step - loss: 0.8010 - acc: 0.7406 - val_loss: 1.5018 - val_acc: 0.4924\n",
      "Epoch 34/50\n",
      "50000/50000 [==============================] - 3s 64us/step - loss: 0.7829 - acc: 0.7495 - val_loss: 1.5099 - val_acc: 0.4966\n",
      "Epoch 35/50\n",
      "50000/50000 [==============================] - 3s 68us/step - loss: 0.7638 - acc: 0.7569 - val_loss: 1.5167 - val_acc: 0.4913\n",
      "Epoch 36/50\n",
      "50000/50000 [==============================] - 4s 74us/step - loss: 0.7446 - acc: 0.7629 - val_loss: 1.5361 - val_acc: 0.4909\n",
      "Epoch 37/50\n",
      "50000/50000 [==============================] - 4s 80us/step - loss: 0.7258 - acc: 0.7708 - val_loss: 1.5515 - val_acc: 0.4921\n",
      "Epoch 38/50\n",
      "50000/50000 [==============================] - 3s 69us/step - loss: 0.7051 - acc: 0.7799 - val_loss: 1.5895 - val_acc: 0.4923\n",
      "Epoch 39/50\n",
      "50000/50000 [==============================] - 3s 69us/step - loss: 0.6897 - acc: 0.7847 - val_loss: 1.5485 - val_acc: 0.4939\n",
      "Epoch 40/50\n",
      "50000/50000 [==============================] - 4s 70us/step - loss: 0.6704 - acc: 0.7943 - val_loss: 1.5687 - val_acc: 0.4913\n",
      "Epoch 41/50\n",
      "50000/50000 [==============================] - 3s 70us/step - loss: 0.6530 - acc: 0.8001 - val_loss: 1.5616 - val_acc: 0.4934\n",
      "Epoch 42/50\n",
      "50000/50000 [==============================] - 3s 69us/step - loss: 0.6348 - acc: 0.8068 - val_loss: 1.5863 - val_acc: 0.4893\n",
      "Epoch 43/50\n",
      "50000/50000 [==============================] - 4s 73us/step - loss: 0.6166 - acc: 0.8143 - val_loss: 1.5894 - val_acc: 0.4932\n",
      "Epoch 44/50\n",
      "50000/50000 [==============================] - 4s 81us/step - loss: 0.5974 - acc: 0.8224 - val_loss: 1.6075 - val_acc: 0.4860\n",
      "Epoch 45/50\n",
      "50000/50000 [==============================] - 4s 78us/step - loss: 0.5814 - acc: 0.8286 - val_loss: 1.6177 - val_acc: 0.4880\n",
      "Epoch 46/50\n",
      "50000/50000 [==============================] - 3s 66us/step - loss: 0.5642 - acc: 0.8342 - val_loss: 1.6137 - val_acc: 0.4910\n",
      "Epoch 47/50\n",
      "50000/50000 [==============================] - 4s 72us/step - loss: 0.5466 - acc: 0.8415 - val_loss: 1.6567 - val_acc: 0.4895\n",
      "Epoch 48/50\n",
      "50000/50000 [==============================] - 3s 67us/step - loss: 0.5293 - acc: 0.8490 - val_loss: 1.6596 - val_acc: 0.4857\n",
      "Epoch 49/50\n"
     ]
    },
    {
     "name": "stdout",
     "output_type": "stream",
     "text": [
      "50000/50000 [==============================] - 3s 70us/step - loss: 0.5136 - acc: 0.8537 - val_loss: 1.6682 - val_acc: 0.4834\n",
      "Epoch 50/50\n",
      "50000/50000 [==============================] - 3s 67us/step - loss: 0.4977 - acc: 0.8594 - val_loss: 1.6866 - val_acc: 0.4859\n"
     ]
    }
   ],
   "source": [
    "#from keras.callbacks import ModelCheckpoint\n",
    "\n",
    "model_ckpt = ModelCheckpoint(filepath=\"./tmp.h5\", \n",
    "                             monitor=\"val_loss\", \n",
    "                             save_best_only=True)\n",
    "\n",
    "model = build_mlp(input_shape=x_train.shape[1:])\n",
    "model.summary()\n",
    "optimizer = keras.optimizers.SGD(lr=LEARNING_RATE, nesterov=True, momentum=MOMENTUM)\n",
    "model.compile(loss=\"categorical_crossentropy\", metrics=[\"accuracy\"], optimizer=optimizer)\n",
    "\n",
    "model.fit(x_train, y_train, \n",
    "          epochs=EPOCHS, \n",
    "          batch_size=BATCH_SIZE, \n",
    "          validation_data=(x_test, y_test), \n",
    "          shuffle=True,\n",
    "          callbacks=[model_ckpt]\n",
    "         )\n",
    "\n",
    "# Collect results\n",
    "train_loss = model.history.history[\"loss\"]\n",
    "valid_loss = model.history.history[\"val_loss\"]\n",
    "train_acc = model.history.history[\"acc\"]\n",
    "valid_acc = model.history.history[\"val_acc\"]"
   ]
  },
  {
   "cell_type": "code",
   "execution_count": 10,
   "metadata": {},
   "outputs": [],
   "source": [
    "# Load back\n",
    "model.save_weights('wght.h5')\n"
   ]
  },
  {
   "cell_type": "code",
   "execution_count": 11,
   "metadata": {},
   "outputs": [
    {
     "name": "stdout",
     "output_type": "stream",
     "text": [
      "10000/10000 [==============================] - 1s 146us/step\n"
     ]
    }
   ],
   "source": [
    "model = build_mlp(input_shape=x_train.shape[1:])\n",
    "model.load_weights('wght.h5')\n",
    "model.compile(loss=\"categorical_crossentropy\", metrics=[\"accuracy\"], optimizer=optimizer)\n",
    "loss_loadback, acc_loadback = model.evaluate(x_test, y_test)"
   ]
  },
  {
   "cell_type": "code",
   "execution_count": 12,
   "metadata": {},
   "outputs": [
    {
     "data": {
      "image/png": "[encoded data removed]",
      "text/plain": [
       "<Figure size 432x288 with 1 Axes>"
      ]
     },
     "metadata": {
      "needs_background": "light"
     },
     "output_type": "display_data"
    },
    {
     "data": {
      "image/png": "[encoded data removed]",
      "text/plain": [
       "<Figure size 432x288 with 1 Axes>"
      ]
     },
     "metadata": {
      "needs_background": "light"
     },
     "output_type": "display_data"
    }
   ],
   "source": [
    "import matplotlib.pyplot as plt\n",
    "%matplotlib inline\n",
    "\n",
    "\n",
    "plt.plot(range(len(train_loss)), train_loss, label=\"train loss\")\n",
    "plt.plot(range(len(valid_loss)), valid_loss, label=\"valid loss\")\n",
    "plt.hlines(y=loss_loadback, xmin=0, xmax=len(train_loss), colors='r', linestyles='--')\n",
    "plt.legend()\n",
    "plt.title(\"Loss\")\n",
    "plt.show()\n",
    "\n",
    "plt.plot(range(len(train_acc)), train_acc, label=\"train accuracy\")\n",
    "plt.plot(range(len(valid_acc)), valid_acc, label=\"valid accuracy\")\n",
    "plt.hlines(y=acc_loadback, xmin=0, xmax=len(train_loss), colors='r', linestyles='--')\n",
    "plt.legend()\n",
    "plt.title(\"Accuracy\")\n",
    "plt.show()"
   ]
  },
  {
   "cell_type": "code",
   "execution_count": null,
   "metadata": {},
   "outputs": [],
   "source": []
  }
 ],
 "metadata": {
  "kernelspec": {
   "display_name": "Python 3",
   "language": "python",
   "name": "python3"
  },
  "language_info": {
   "codemirror_mode": {
    "name": "ipython",
    "version": 3
   },
   "file_extension": ".py",
   "mimetype": "text/x-python",
   "name": "python",
   "nbconvert_exporter": "python",
   "pygments_lexer": "ipython3",
   "version": "3.6.8"
  }
 },
 "nbformat": 4,
 "nbformat_minor": 2
}
