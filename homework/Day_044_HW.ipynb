{
 "cells": [
  {
   "cell_type": "markdown",
   "metadata": {},
   "source": [
    "## [作業重點]\n",
    "確保你了解隨機森林模型中每個超參數的意義，並觀察調整超參數對結果的影響"
   ]
  },
  {
   "cell_type": "markdown",
   "metadata": {},
   "source": [
    "## 作業\n",
    "\n",
    "1. 試著調整 RandomForestClassifier(...) 中的參數，並觀察是否會改變結果？\n",
    "    - Answer:\n",
    "        - 改變max_width至2，Feature importance會改變，但不影響Accuracy。\n",
    "        - 改變n_estimators至10，Feature importance會改變，但不影響Accuracy。\n",
    "2. 改用其他資料集 (boston, wine)，並與回歸模型與決策樹的結果進行比較"
   ]
  },
  {
   "cell_type": "code",
   "execution_count": 30,
   "metadata": {},
   "outputs": [],
   "source": [
    "from sklearn import datasets, metrics\n",
    "from sklearn.ensemble import RandomForestClassifier\n",
    "from sklearn.ensemble import RandomForestRegressor\n",
    "from sklearn.tree import DecisionTreeRegressor\n",
    "from sklearn.model_selection import train_test_split"
   ]
  },
  {
   "cell_type": "code",
   "execution_count": 31,
   "metadata": {},
   "outputs": [],
   "source": [
    "iris = datasets.load_iris()\n",
    "x_train, x_test, y_train, y_test = train_test_split(iris.data, iris.target, test_size=0.25, random_state=4)"
   ]
  },
  {
   "cell_type": "code",
   "execution_count": 32,
   "metadata": {},
   "outputs": [
    {
     "name": "stdout",
     "output_type": "stream",
     "text": [
      "Accuracy:  0.9736842105263158\n",
      "Feature importance:  [0.11881717 0.01241165 0.42051475 0.44825642]\n"
     ]
    }
   ],
   "source": [
    "## max_depth -> 2\n",
    "clf = RandomForestClassifier(n_estimators=20, max_depth=2)\n",
    "clf.fit(x_train, y_train)\n",
    "y_pred = clf.predict(x_test)\n",
    "acc = metrics.accuracy_score(y_test, y_pred)\n",
    "print(\"Accuracy: \", acc)\n",
    "print(\"Feature importance: \", clf.feature_importances_)"
   ]
  },
  {
   "cell_type": "code",
   "execution_count": 33,
   "metadata": {},
   "outputs": [
    {
     "name": "stdout",
     "output_type": "stream",
     "text": [
      "Accuracy:  0.9736842105263158\n",
      "Feature importance:  [0.09855794 0.05653362 0.32583936 0.51906909]\n"
     ]
    }
   ],
   "source": [
    "## n_estimators -> 15\n",
    "clf = RandomForestClassifier(n_estimators=15, max_depth=4)\n",
    "clf.fit(x_train, y_train)\n",
    "y_pred = clf.predict(x_test)\n",
    "acc = metrics.accuracy_score(y_test, y_pred)\n",
    "print(\"Accuracy: \", acc)\n",
    "print(\"Feature importance: \", clf.feature_importances_)"
   ]
  },
  {
   "cell_type": "markdown",
   "metadata": {},
   "source": [
    "## Part 2 - 使用boston資料集作Random Forest Regreesor"
   ]
  },
  {
   "cell_type": "code",
   "execution_count": 34,
   "metadata": {},
   "outputs": [
    {
     "name": "stdout",
     "output_type": "stream",
     "text": [
      "MAE: 2.93384330811701\n",
      "MSE: 19.75401219617084\n",
      "R-squared: 0.7435630836500158\n"
     ]
    }
   ],
   "source": [
    "## Using boston datasets + Random Forest Regressor\n",
    "bo = datasets.load_boston()\n",
    "x_train, x_test, y_train, y_test = train_test_split(bo.data, bo.target, test_size=0.25, random_state=4)\n",
    "clf = RandomForestRegressor(n_estimators=20, max_depth=4)\n",
    "clf.fit(x_train, y_train)\n",
    "y_pred = clf.predict(x_test)\n",
    "mae = metrics.mean_absolute_error(y_pred, y_test)\n",
    "mse = metrics.mean_squared_error(y_pred, y_test)\n",
    "r2 = metrics.r2_score(y_pred, y_test)\n",
    "print('MAE:' ,mae)\n",
    "print('MSE:' ,mse)\n",
    "print('R-squared:', r2)"
   ]
  },
  {
   "cell_type": "code",
   "execution_count": 35,
   "metadata": {},
   "outputs": [
    {
     "name": "stdout",
     "output_type": "stream",
     "text": [
      "MAE:  3.5590551181102357\n",
      "MSE:  31.532283464566923\n",
      "R-square:  0.700926581286923\n"
     ]
    }
   ],
   "source": [
    "## Using boston datasets + DecisionTreeRegression\n",
    "clf = DecisionTreeRegressor()\n",
    "clf.fit(x_train, y_train)\n",
    "y_pred = clf.predict(x_test)\n",
    "mae = metrics.mean_absolute_error(y_pred, y_test)\n",
    "mse = metrics.mean_squared_error(y_pred, y_test)\n",
    "r2 = metrics.r2_score(y_pred, y_test)\n",
    "print(\"MAE: \", mae)\n",
    "print(\"MSE: \", mse)\n",
    "print(\"R-square: \", r2)"
   ]
  }
 ],
 "metadata": {
  "kernelspec": {
   "display_name": "Python 3",
   "language": "python",
   "name": "python3"
  },
  "language_info": {
   "codemirror_mode": {
    "name": "ipython",
    "version": 3
   },
   "file_extension": ".py",
   "mimetype": "text/x-python",
   "name": "python",
   "nbconvert_exporter": "python",
   "pygments_lexer": "ipython3",
   "version": "3.6.8"
  }
 },
 "nbformat": 4,
 "nbformat_minor": 2
}
